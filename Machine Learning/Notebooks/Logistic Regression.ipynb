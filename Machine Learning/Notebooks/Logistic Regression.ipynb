{
 "cells": [
  {
   "cell_type": "code",
   "execution_count": 1,
   "metadata": {},
   "outputs": [
    {
     "name": "stdout",
     "output_type": "stream",
     "text": [
      "Logistic Regression's Accuracy is:  0.5919354838709677\n",
      "              precision    recall  f1-score   support\n",
      "\n",
      "Adzuki Beans       1.00      1.00      1.00        19\n",
      "  Black gram       0.52      0.57      0.55        21\n",
      "    Chickpea       0.86      0.86      0.86        22\n",
      "     Coconut       0.74      0.85      0.79        20\n",
      "      Coffee       0.37      0.47      0.41        15\n",
      "      Cotton       0.32      0.47      0.38        15\n",
      "  Ground Nut       0.42      0.42      0.42        19\n",
      "        Jute       0.53      0.53      0.53        19\n",
      "Kidney Beans       0.85      0.65      0.73        17\n",
      "      Lentil       0.59      0.53      0.56        19\n",
      "  Moth Beans       0.58      0.48      0.52        23\n",
      "   Mung Bean       0.59      0.50      0.54        20\n",
      "        Peas       0.85      1.00      0.92        17\n",
      " Pigeon Peas       0.56      0.43      0.49        23\n",
      "      Rubber       0.62      0.67      0.64        24\n",
      "   Sugarcane       0.28      0.57      0.37        14\n",
      "         Tea       0.50      0.53      0.51        19\n",
      "     Tobacco       0.80      0.38      0.52        21\n",
      "       apple       0.45      1.00      0.62        17\n",
      "      banana       0.50      0.63      0.56        19\n",
      "      grapes       0.44      0.88      0.59        17\n",
      "       maize       0.36      0.17      0.24        23\n",
      "       mango       0.84      0.84      0.84        25\n",
      "      millet       1.00      1.00      1.00        13\n",
      "   muskmelon       1.00      1.00      1.00        20\n",
      "      orange       0.29      0.16      0.21        25\n",
      "      papaya       0.60      0.21      0.32        28\n",
      " pomegranate       0.17      0.05      0.07        22\n",
      "        rice       0.76      0.86      0.81        22\n",
      "  watermelon       0.65      0.85      0.74        20\n",
      "       wheat       0.42      0.36      0.39        22\n",
      "\n",
      "    accuracy                           0.59       620\n",
      "   macro avg       0.59      0.61      0.58       620\n",
      "weighted avg       0.59      0.59      0.57       620\n",
      "\n"
     ]
    },
    {
     "name": "stderr",
     "output_type": "stream",
     "text": [
      "/home/nns/anaconda3/lib/python3.7/site-packages/sklearn/linear_model/_logistic.py:940: ConvergenceWarning: lbfgs failed to converge (status=1):\n",
      "STOP: TOTAL NO. of ITERATIONS REACHED LIMIT.\n",
      "\n",
      "Increase the number of iterations (max_iter) or scale the data as shown in:\n",
      "    https://scikit-learn.org/stable/modules/preprocessing.html\n",
      "Please also refer to the documentation for alternative solver options:\n",
      "    https://scikit-learn.org/stable/modules/linear_model.html#logistic-regression\n",
      "  extra_warning_msg=_LOGISTIC_SOLVER_CONVERGENCE_MSG)\n"
     ]
    }
   ],
   "source": [
    "from __future__ import print_function\n",
    "import pandas as pd\n",
    "from sklearn.metrics import classification_report\n",
    "from sklearn import metrics\n",
    "\n",
    "df = pd.read_csv('../Datasets/cpdata.csv')\n",
    "features = df[['temperature', 'humidity', 'ph', 'rainfall']]\n",
    "labels = df['label']\n",
    "\n",
    "from sklearn.model_selection import train_test_split\n",
    "Xtrain, Xtest, Ytrain, Ytest = train_test_split(features,labels,test_size = 0.2,random_state =2)\n",
    "\n",
    "from sklearn.linear_model import LogisticRegression\n",
    "\n",
    "LogReg = LogisticRegression(random_state=2)\n",
    "\n",
    "LogReg.fit(Xtrain,Ytrain)\n",
    "\n",
    "predicted_values = LogReg.predict(Xtest)\n",
    "\n",
    "x =  metrics.accuracy_score(Ytest, predicted_values)\n",
    "print(\"Logistic Regression's Accuracy is: \", x)\n",
    "\n",
    "print(classification_report(Ytest,predicted_values))"
   ]
  },
  {
   "cell_type": "code",
   "execution_count": null,
   "metadata": {},
   "outputs": [],
   "source": []
  }
 ],
 "metadata": {
  "kernelspec": {
   "display_name": "Python 3",
   "language": "python",
   "name": "python3"
  },
  "language_info": {
   "codemirror_mode": {
    "name": "ipython",
    "version": 3
   },
   "file_extension": ".py",
   "mimetype": "text/x-python",
   "name": "python",
   "nbconvert_exporter": "python",
   "pygments_lexer": "ipython3",
   "version": "3.7.4"
  }
 },
 "nbformat": 4,
 "nbformat_minor": 2
}
