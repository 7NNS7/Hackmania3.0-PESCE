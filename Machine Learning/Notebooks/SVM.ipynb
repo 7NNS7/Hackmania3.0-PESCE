{
 "cells": [
  {
   "cell_type": "code",
   "execution_count": 1,
   "metadata": {},
   "outputs": [
    {
     "name": "stdout",
     "output_type": "stream",
     "text": [
      "SVM's Accuracy is:  0.6774193548387096\n",
      "              precision    recall  f1-score   support\n",
      "\n",
      "Adzuki Beans       1.00      0.11      0.19        19\n",
      "  Black gram       0.81      0.81      0.81        21\n",
      "    Chickpea       1.00      0.91      0.95        22\n",
      "     Coconut       1.00      0.70      0.82        20\n",
      "      Coffee       0.80      0.53      0.64        15\n",
      "      Cotton       0.80      0.53      0.64        15\n",
      "  Ground Nut       0.77      0.53      0.62        19\n",
      "        Jute       0.82      0.74      0.78        19\n",
      "Kidney Beans       1.00      0.71      0.83        17\n",
      "      Lentil       0.86      0.63      0.73        19\n",
      "  Moth Beans       0.90      0.39      0.55        23\n",
      "   Mung Bean       1.00      0.90      0.95        20\n",
      "        Peas       1.00      1.00      1.00        17\n",
      " Pigeon Peas       0.13      0.91      0.23        23\n",
      "      Rubber       1.00      0.08      0.15        24\n",
      "   Sugarcane       0.60      0.43      0.50        14\n",
      "         Tea       0.81      0.68      0.74        19\n",
      "     Tobacco       0.89      0.81      0.85        21\n",
      "       apple       0.70      0.82      0.76        17\n",
      "      banana       0.88      0.79      0.83        19\n",
      "      grapes       0.76      0.76      0.76        17\n",
      "       maize       0.71      0.52      0.60        23\n",
      "       mango       0.96      0.92      0.94        25\n",
      "      millet       1.00      1.00      1.00        13\n",
      "   muskmelon       1.00      1.00      1.00        20\n",
      "      orange       0.89      0.64      0.74        25\n",
      "      papaya       0.82      0.32      0.46        28\n",
      " pomegranate       0.84      0.73      0.78        22\n",
      "        rice       1.00      0.68      0.81        22\n",
      "  watermelon       0.95      1.00      0.98        20\n",
      "       wheat       0.56      0.64      0.60        22\n",
      "\n",
      "    accuracy                           0.68       620\n",
      "   macro avg       0.85      0.68      0.72       620\n",
      "weighted avg       0.85      0.68      0.71       620\n",
      "\n"
     ]
    }
   ],
   "source": [
    "from __future__ import print_function\n",
    "import pandas as pd\n",
    "from sklearn.metrics import classification_report\n",
    "from sklearn import metrics\n",
    "\n",
    "df = pd.read_csv('../Datasets/cpdata.csv')\n",
    "features = df[['temperature', 'humidity', 'ph', 'rainfall']]\n",
    "labels = df['label']\n",
    "\n",
    "from sklearn.model_selection import train_test_split\n",
    "Xtrain, Xtest, Ytrain, Ytest = train_test_split(features,labels,test_size = 0.2,random_state =2)\n",
    "\n",
    "from sklearn.svm import SVC\n",
    "\n",
    "SVM = SVC(gamma='auto')\n",
    "\n",
    "SVM.fit(Xtrain,Ytrain)\n",
    "\n",
    "predicted_values = SVM.predict(Xtest)\n",
    "\n",
    "x =  metrics.accuracy_score(Ytest, predicted_values)\n",
    "print(\"SVM's Accuracy is: \", x)\n",
    "\n",
    "print(classification_report(Ytest,predicted_values))"
   ]
  },
  {
   "cell_type": "code",
   "execution_count": null,
   "metadata": {},
   "outputs": [],
   "source": []
  }
 ],
 "metadata": {
  "kernelspec": {
   "display_name": "Python 3",
   "language": "python",
   "name": "python3"
  },
  "language_info": {
   "codemirror_mode": {
    "name": "ipython",
    "version": 3
   },
   "file_extension": ".py",
   "mimetype": "text/x-python",
   "name": "python",
   "nbconvert_exporter": "python",
   "pygments_lexer": "ipython3",
   "version": "3.7.4"
  }
 },
 "nbformat": 4,
 "nbformat_minor": 2
}
