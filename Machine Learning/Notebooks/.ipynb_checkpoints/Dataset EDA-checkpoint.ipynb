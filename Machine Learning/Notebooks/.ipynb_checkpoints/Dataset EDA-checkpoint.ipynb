{
 "cells": [
  {
   "cell_type": "code",
   "execution_count": 1,
   "metadata": {},
   "outputs": [],
   "source": [
    "from __future__ import print_function\n",
    "import pandas as pd\n",
    "import numpy as np\n",
    "import matplotlib.pyplot as plt\n",
    "import seaborn as sns\n",
    "from sklearn.metrics import classification_report\n",
    "from sklearn.metrics import confusion_matrix\n",
    "from sklearn.metrics import precision_score\n",
    "from sklearn.metrics import precision_recall_curve,average_precision_score,roc_curve,auc\n"
   ]
  },
  {
   "cell_type": "code",
   "execution_count": 2,
   "metadata": {},
   "outputs": [],
   "source": [
    "df = pd.read_csv('../Datasets/cpdata.csv')"
   ]
  },
  {
   "cell_type": "code",
   "execution_count": 3,
   "metadata": {},
   "outputs": [
    {
     "data": {
      "text/html": [
       "<div>\n",
       "<style scoped>\n",
       "    .dataframe tbody tr th:only-of-type {\n",
       "        vertical-align: middle;\n",
       "    }\n",
       "\n",
       "    .dataframe tbody tr th {\n",
       "        vertical-align: top;\n",
       "    }\n",
       "\n",
       "    .dataframe thead th {\n",
       "        text-align: right;\n",
       "    }\n",
       "</style>\n",
       "<table border=\"1\" class=\"dataframe\">\n",
       "  <thead>\n",
       "    <tr style=\"text-align: right;\">\n",
       "      <th></th>\n",
       "      <th>temperature</th>\n",
       "      <th>humidity</th>\n",
       "      <th>ph</th>\n",
       "      <th>rainfall</th>\n",
       "      <th>label</th>\n",
       "    </tr>\n",
       "  </thead>\n",
       "  <tbody>\n",
       "    <tr>\n",
       "      <th>0</th>\n",
       "      <td>20.879744</td>\n",
       "      <td>82.002744</td>\n",
       "      <td>6.502985</td>\n",
       "      <td>202.935536</td>\n",
       "      <td>rice</td>\n",
       "    </tr>\n",
       "    <tr>\n",
       "      <th>1</th>\n",
       "      <td>21.770462</td>\n",
       "      <td>80.319644</td>\n",
       "      <td>7.038096</td>\n",
       "      <td>226.655537</td>\n",
       "      <td>rice</td>\n",
       "    </tr>\n",
       "    <tr>\n",
       "      <th>2</th>\n",
       "      <td>23.004459</td>\n",
       "      <td>82.320763</td>\n",
       "      <td>7.840207</td>\n",
       "      <td>263.964248</td>\n",
       "      <td>rice</td>\n",
       "    </tr>\n",
       "    <tr>\n",
       "      <th>3</th>\n",
       "      <td>26.491096</td>\n",
       "      <td>80.158363</td>\n",
       "      <td>6.980401</td>\n",
       "      <td>242.864034</td>\n",
       "      <td>rice</td>\n",
       "    </tr>\n",
       "    <tr>\n",
       "      <th>4</th>\n",
       "      <td>20.130175</td>\n",
       "      <td>81.604873</td>\n",
       "      <td>7.628473</td>\n",
       "      <td>262.717340</td>\n",
       "      <td>rice</td>\n",
       "    </tr>\n",
       "  </tbody>\n",
       "</table>\n",
       "</div>"
      ],
      "text/plain": [
       "   temperature   humidity        ph    rainfall label\n",
       "0    20.879744  82.002744  6.502985  202.935536  rice\n",
       "1    21.770462  80.319644  7.038096  226.655537  rice\n",
       "2    23.004459  82.320763  7.840207  263.964248  rice\n",
       "3    26.491096  80.158363  6.980401  242.864034  rice\n",
       "4    20.130175  81.604873  7.628473  262.717340  rice"
      ]
     },
     "execution_count": 3,
     "metadata": {},
     "output_type": "execute_result"
    }
   ],
   "source": [
    "df.head()"
   ]
  },
  {
   "cell_type": "code",
   "execution_count": 4,
   "metadata": {},
   "outputs": [
    {
     "data": {
      "text/plain": [
       "15500"
      ]
     },
     "execution_count": 4,
     "metadata": {},
     "output_type": "execute_result"
    }
   ],
   "source": [
    "df.size"
   ]
  },
  {
   "cell_type": "code",
   "execution_count": 5,
   "metadata": {},
   "outputs": [
    {
     "data": {
      "text/plain": [
       "(3100, 5)"
      ]
     },
     "execution_count": 5,
     "metadata": {},
     "output_type": "execute_result"
    }
   ],
   "source": [
    "df.shape"
   ]
  },
  {
   "cell_type": "code",
   "execution_count": 6,
   "metadata": {},
   "outputs": [
    {
     "data": {
      "text/plain": [
       "Index(['temperature', 'humidity', 'ph', 'rainfall', 'label'], dtype='object')"
      ]
     },
     "execution_count": 6,
     "metadata": {},
     "output_type": "execute_result"
    }
   ],
   "source": [
    "df.columns"
   ]
  },
  {
   "cell_type": "code",
   "execution_count": 7,
   "metadata": {},
   "outputs": [
    {
     "data": {
      "text/plain": [
       "<matplotlib.axes._subplots.AxesSubplot at 0x7f5bc2262ed0>"
      ]
     },
     "execution_count": 7,
     "metadata": {},
     "output_type": "execute_result"
    },
    {
     "data": {
      "image/png": "[encoded data removed]",
      "text/plain": [
       "<Figure size 432x288 with 1 Axes>"
      ]
     },
     "metadata": {
      "needs_background": "light"
     },
     "output_type": "display_data"
    }
   ],
   "source": [
    "sns.lineplot(data = df['temperature'])"
   ]
  },
  {
   "cell_type": "code",
   "execution_count": 8,
   "metadata": {},
   "outputs": [
    {
     "data": {
      "text/plain": [
       "<matplotlib.axes._subplots.AxesSubplot at 0x7f5bc1843dd0>"
      ]
     },
     "execution_count": 8,
     "metadata": {},
     "output_type": "execute_result"
    },
    {
     "data": {
      "image/png": "[encoded data removed]",
      "text/plain": [
       "<Figure size 432x288 with 1 Axes>"
      ]
     },
     "metadata": {
      "needs_background": "light"
     },
     "output_type": "display_data"
    }
   ],
   "source": [
    "sns.lineplot(data = df['humidity'])"
   ]
  },
  {
   "cell_type": "code",
   "execution_count": 9,
   "metadata": {},
   "outputs": [
    {
     "data": {
      "text/plain": [
       "<matplotlib.axes._subplots.AxesSubplot at 0x7f5bc17c5950>"
      ]
     },
     "execution_count": 9,
     "metadata": {},
     "output_type": "execute_result"
    },
    {
     "data": {
      "image/png": "[encoded data removed]",
      "text/plain": [
       "<Figure size 432x288 with 1 Axes>"
      ]
     },
     "metadata": {
      "needs_background": "light"
     },
     "output_type": "display_data"
    }
   ],
   "source": [
    "sns.lineplot(data = df['ph'])"
   ]
  },
  {
   "cell_type": "code",
   "execution_count": 10,
   "metadata": {},
   "outputs": [
    {
     "data": {
      "text/plain": [
       "<matplotlib.axes._subplots.AxesSubplot at 0x7f5bc171f390>"
      ]
     },
     "execution_count": 10,
     "metadata": {},
     "output_type": "execute_result"
    },
    {
     "data": {
      "image/png": "[encoded data removed]",
      "text/plain": [
       "<Figure size 432x288 with 1 Axes>"
      ]
     },
     "metadata": {
      "needs_background": "light"
     },
     "output_type": "display_data"
    }
   ],
   "source": [
    "sns.lineplot(data = df['rainfall'])"
   ]
  },
  {
   "cell_type": "code",
   "execution_count": 11,
   "metadata": {},
   "outputs": [],
   "source": [
    "features = df[['temperature', 'humidity', 'ph', 'rainfall']]\n",
    "labels = df['label']"
   ]
  },
  {
   "cell_type": "code",
   "execution_count": 12,
   "metadata": {},
   "outputs": [],
   "source": [
    "from sklearn.model_selection import train_test_split\n",
    "\n",
    "Xtrain, Xtest, Ytrain, Ytest = train_test_split(features,labels,test_size = 0.2,random_state =2)"
   ]
  },
  {
   "cell_type": "markdown",
   "metadata": {},
   "source": [
    "# Decision Tree"
   ]
  },
  {
   "cell_type": "code",
   "execution_count": 13,
   "metadata": {},
   "outputs": [],
   "source": [
    "from sklearn.tree import DecisionTreeClassifier"
   ]
  },
  {
   "cell_type": "code",
   "execution_count": 14,
   "metadata": {},
   "outputs": [],
   "source": [
    "DecisionTree = DecisionTreeClassifier(criterion=\"entropy\",random_state=2,max_depth=10)"
   ]
  },
  {
   "cell_type": "code",
   "execution_count": 15,
   "metadata": {},
   "outputs": [
    {
     "data": {
      "text/plain": [
       "DecisionTreeClassifier(ccp_alpha=0.0, class_weight=None, criterion='entropy',\n",
       "                       max_depth=10, max_features=None, max_leaf_nodes=None,\n",
       "                       min_impurity_decrease=0.0, min_impurity_split=None,\n",
       "                       min_samples_leaf=1, min_samples_split=2,\n",
       "                       min_weight_fraction_leaf=0.0, presort='deprecated',\n",
       "                       random_state=2, splitter='best')"
      ]
     },
     "execution_count": 15,
     "metadata": {},
     "output_type": "execute_result"
    }
   ],
   "source": [
    "DecisionTree.fit(Xtrain,Ytrain)"
   ]
  },
  {
   "cell_type": "code",
   "execution_count": 16,
   "metadata": {},
   "outputs": [],
   "source": [
    "predicted_values = DecisionTree.predict(Xtest)"
   ]
  },
  {
   "cell_type": "code",
   "execution_count": 17,
   "metadata": {},
   "outputs": [
    {
     "name": "stdout",
     "output_type": "stream",
     "text": [
      "DecisionTrees's Accuracy is:  0.8983870967741936\n"
     ]
    }
   ],
   "source": [
    "from sklearn import metrics\n",
    "x =  metrics.accuracy_score(Ytest, predicted_values)\n",
    "print(\"DecisionTrees's Accuracy is: \", x)"
   ]
  },
  {
   "cell_type": "code",
   "execution_count": 18,
   "metadata": {},
   "outputs": [
    {
     "name": "stdout",
     "output_type": "stream",
     "text": [
      "              precision    recall  f1-score   support\n",
      "\n",
      "Adzuki Beans       1.00      0.89      0.94        19\n",
      "  Black gram       1.00      0.95      0.98        21\n",
      "    Chickpea       0.96      1.00      0.98        22\n",
      "     Coconut       1.00      1.00      1.00        20\n",
      "      Coffee       0.88      1.00      0.94        15\n",
      "      Cotton       0.87      0.87      0.87        15\n",
      "  Ground Nut       0.86      0.95      0.90        19\n",
      "        Jute       0.86      0.95      0.90        19\n",
      "Kidney Beans       1.00      0.94      0.97        17\n",
      "      Lentil       0.86      0.95      0.90        19\n",
      "  Moth Beans       0.90      0.78      0.84        23\n",
      "   Mung Bean       1.00      1.00      1.00        20\n",
      "        Peas       1.00      1.00      1.00        17\n",
      " Pigeon Peas       0.80      0.52      0.63        23\n",
      "      Rubber       0.88      0.92      0.90        24\n",
      "   Sugarcane       0.91      0.71      0.80        14\n",
      "         Tea       0.76      0.84      0.80        19\n",
      "     Tobacco       0.95      0.95      0.95        21\n",
      "       apple       0.89      0.94      0.91        17\n",
      "      banana       0.94      0.89      0.92        19\n",
      "      grapes       0.89      0.94      0.91        17\n",
      "       maize       0.64      0.70      0.67        23\n",
      "       mango       0.92      0.96      0.94        25\n",
      "      millet       1.00      1.00      1.00        13\n",
      "   muskmelon       1.00      1.00      1.00        20\n",
      "      orange       0.83      0.76      0.79        25\n",
      "      papaya       0.84      0.96      0.90        28\n",
      " pomegranate       0.95      0.82      0.88        22\n",
      "        rice       0.96      1.00      0.98        22\n",
      "  watermelon       1.00      1.00      1.00        20\n",
      "       wheat       0.71      0.77      0.74        22\n",
      "\n",
      "    accuracy                           0.90       620\n",
      "   macro avg       0.90      0.90      0.90       620\n",
      "weighted avg       0.90      0.90      0.90       620\n",
      "\n"
     ]
    }
   ],
   "source": [
    "print(classification_report(Ytest,predicted_values))"
   ]
  },
  {
   "cell_type": "markdown",
   "metadata": {},
   "source": [
    "# Naive Bayes"
   ]
  },
  {
   "cell_type": "code",
   "execution_count": 19,
   "metadata": {},
   "outputs": [],
   "source": [
    "from sklearn.naive_bayes import GaussianNB"
   ]
  },
  {
   "cell_type": "code",
   "execution_count": 20,
   "metadata": {},
   "outputs": [],
   "source": [
    "NaiveBayes = GaussianNB()"
   ]
  },
  {
   "cell_type": "code",
   "execution_count": 21,
   "metadata": {},
   "outputs": [
    {
     "data": {
      "text/plain": [
       "GaussianNB(priors=None, var_smoothing=1e-09)"
      ]
     },
     "execution_count": 21,
     "metadata": {},
     "output_type": "execute_result"
    }
   ],
   "source": [
    "NaiveBayes.fit(Xtrain,Ytrain)"
   ]
  },
  {
   "cell_type": "code",
   "execution_count": 22,
   "metadata": {},
   "outputs": [],
   "source": [
    "predicted_values = NaiveBayes.predict(Xtest)"
   ]
  },
  {
   "cell_type": "code",
   "execution_count": 23,
   "metadata": {},
   "outputs": [
    {
     "name": "stdout",
     "output_type": "stream",
     "text": [
      "Naive Bayes's Accuracy is:  0.932258064516129\n"
     ]
    }
   ],
   "source": [
    "x =  metrics.accuracy_score(Ytest, predicted_values)\n",
    "print(\"Naive Bayes's Accuracy is: \", x)"
   ]
  },
  {
   "cell_type": "code",
   "execution_count": 24,
   "metadata": {},
   "outputs": [
    {
     "name": "stdout",
     "output_type": "stream",
     "text": [
      "              precision    recall  f1-score   support\n",
      "\n",
      "Adzuki Beans       1.00      1.00      1.00        19\n",
      "  Black gram       1.00      1.00      1.00        21\n",
      "    Chickpea       1.00      1.00      1.00        22\n",
      "     Coconut       1.00      1.00      1.00        20\n",
      "      Coffee       0.79      0.73      0.76        15\n",
      "      Cotton       0.86      0.80      0.83        15\n",
      "  Ground Nut       0.95      1.00      0.97        19\n",
      "        Jute       0.85      0.89      0.87        19\n",
      "Kidney Beans       1.00      1.00      1.00        17\n",
      "      Lentil       0.95      1.00      0.97        19\n",
      "  Moth Beans       1.00      0.91      0.95        23\n",
      "   Mung Bean       1.00      1.00      1.00        20\n",
      "        Peas       1.00      1.00      1.00        17\n",
      " Pigeon Peas       0.94      0.74      0.83        23\n",
      "      Rubber       0.96      0.92      0.94        24\n",
      "   Sugarcane       0.92      0.86      0.89        14\n",
      "         Tea       0.95      1.00      0.97        19\n",
      "     Tobacco       1.00      1.00      1.00        21\n",
      "       apple       0.84      0.94      0.89        17\n",
      "      banana       0.90      0.95      0.92        19\n",
      "      grapes       0.85      1.00      0.92        17\n",
      "       maize       0.82      0.78      0.80        23\n",
      "       mango       0.92      0.96      0.94        25\n",
      "      millet       1.00      1.00      1.00        13\n",
      "   muskmelon       1.00      1.00      1.00        20\n",
      "      orange       0.96      0.88      0.92        25\n",
      "      papaya       0.93      0.96      0.95        28\n",
      " pomegranate       0.90      0.82      0.86        22\n",
      "        rice       0.95      0.95      0.95        22\n",
      "  watermelon       1.00      1.00      1.00        20\n",
      "       wheat       0.69      0.82      0.75        22\n",
      "\n",
      "    accuracy                           0.93       620\n",
      "   macro avg       0.93      0.93      0.93       620\n",
      "weighted avg       0.93      0.93      0.93       620\n",
      "\n"
     ]
    }
   ],
   "source": [
    "print(classification_report(Ytest,predicted_values))"
   ]
  },
  {
   "cell_type": "markdown",
   "metadata": {},
   "source": [
    "# SVM"
   ]
  },
  {
   "cell_type": "code",
   "execution_count": 25,
   "metadata": {},
   "outputs": [],
   "source": [
    "from sklearn.svm import SVC"
   ]
  },
  {
   "cell_type": "code",
   "execution_count": 26,
   "metadata": {},
   "outputs": [],
   "source": [
    "SVM = SVC(gamma='auto')"
   ]
  },
  {
   "cell_type": "code",
   "execution_count": 27,
   "metadata": {},
   "outputs": [
    {
     "data": {
      "text/plain": [
       "SVC(C=1.0, break_ties=False, cache_size=200, class_weight=None, coef0=0.0,\n",
       "    decision_function_shape='ovr', degree=3, gamma='auto', kernel='rbf',\n",
       "    max_iter=-1, probability=False, random_state=None, shrinking=True,\n",
       "    tol=0.001, verbose=False)"
      ]
     },
     "execution_count": 27,
     "metadata": {},
     "output_type": "execute_result"
    }
   ],
   "source": [
    "SVM.fit(Xtrain,Ytrain)"
   ]
  },
  {
   "cell_type": "code",
   "execution_count": 28,
   "metadata": {},
   "outputs": [],
   "source": [
    "predicted_values = SVM.predict(Xtest)"
   ]
  },
  {
   "cell_type": "code",
   "execution_count": 29,
   "metadata": {},
   "outputs": [
    {
     "name": "stdout",
     "output_type": "stream",
     "text": [
      "SVM's Accuracy is:  0.6774193548387096\n"
     ]
    }
   ],
   "source": [
    "x =  metrics.accuracy_score(Ytest, predicted_values)\n",
    "print(\"SVM's Accuracy is: \", x)"
   ]
  },
  {
   "cell_type": "code",
   "execution_count": 30,
   "metadata": {},
   "outputs": [
    {
     "name": "stdout",
     "output_type": "stream",
     "text": [
      "              precision    recall  f1-score   support\n",
      "\n",
      "Adzuki Beans       1.00      0.11      0.19        19\n",
      "  Black gram       0.81      0.81      0.81        21\n",
      "    Chickpea       1.00      0.91      0.95        22\n",
      "     Coconut       1.00      0.70      0.82        20\n",
      "      Coffee       0.80      0.53      0.64        15\n",
      "      Cotton       0.80      0.53      0.64        15\n",
      "  Ground Nut       0.77      0.53      0.62        19\n",
      "        Jute       0.82      0.74      0.78        19\n",
      "Kidney Beans       1.00      0.71      0.83        17\n",
      "      Lentil       0.86      0.63      0.73        19\n",
      "  Moth Beans       0.90      0.39      0.55        23\n",
      "   Mung Bean       1.00      0.90      0.95        20\n",
      "        Peas       1.00      1.00      1.00        17\n",
      " Pigeon Peas       0.13      0.91      0.23        23\n",
      "      Rubber       1.00      0.08      0.15        24\n",
      "   Sugarcane       0.60      0.43      0.50        14\n",
      "         Tea       0.81      0.68      0.74        19\n",
      "     Tobacco       0.89      0.81      0.85        21\n",
      "       apple       0.70      0.82      0.76        17\n",
      "      banana       0.88      0.79      0.83        19\n",
      "      grapes       0.76      0.76      0.76        17\n",
      "       maize       0.71      0.52      0.60        23\n",
      "       mango       0.96      0.92      0.94        25\n",
      "      millet       1.00      1.00      1.00        13\n",
      "   muskmelon       1.00      1.00      1.00        20\n",
      "      orange       0.89      0.64      0.74        25\n",
      "      papaya       0.82      0.32      0.46        28\n",
      " pomegranate       0.84      0.73      0.78        22\n",
      "        rice       1.00      0.68      0.81        22\n",
      "  watermelon       0.95      1.00      0.98        20\n",
      "       wheat       0.56      0.64      0.60        22\n",
      "\n",
      "    accuracy                           0.68       620\n",
      "   macro avg       0.85      0.68      0.72       620\n",
      "weighted avg       0.85      0.68      0.71       620\n",
      "\n"
     ]
    }
   ],
   "source": [
    "print(classification_report(Ytest,predicted_values))"
   ]
  },
  {
   "cell_type": "markdown",
   "metadata": {},
   "source": [
    "# Logistic Regression"
   ]
  },
  {
   "cell_type": "code",
   "execution_count": 31,
   "metadata": {},
   "outputs": [],
   "source": [
    "from sklearn.linear_model import LogisticRegression"
   ]
  },
  {
   "cell_type": "code",
   "execution_count": 32,
   "metadata": {},
   "outputs": [],
   "source": [
    "LogReg = LogisticRegression(random_state=2)"
   ]
  },
  {
   "cell_type": "code",
   "execution_count": 33,
   "metadata": {},
   "outputs": [
    {
     "name": "stderr",
     "output_type": "stream",
     "text": [
      "/home/nns/anaconda3/lib/python3.7/site-packages/sklearn/linear_model/_logistic.py:940: ConvergenceWarning: lbfgs failed to converge (status=1):\n",
      "STOP: TOTAL NO. of ITERATIONS REACHED LIMIT.\n",
      "\n",
      "Increase the number of iterations (max_iter) or scale the data as shown in:\n",
      "    https://scikit-learn.org/stable/modules/preprocessing.html\n",
      "Please also refer to the documentation for alternative solver options:\n",
      "    https://scikit-learn.org/stable/modules/linear_model.html#logistic-regression\n",
      "  extra_warning_msg=_LOGISTIC_SOLVER_CONVERGENCE_MSG)\n"
     ]
    },
    {
     "data": {
      "text/plain": [
       "LogisticRegression(C=1.0, class_weight=None, dual=False, fit_intercept=True,\n",
       "                   intercept_scaling=1, l1_ratio=None, max_iter=100,\n",
       "                   multi_class='auto', n_jobs=None, penalty='l2',\n",
       "                   random_state=2, solver='lbfgs', tol=0.0001, verbose=0,\n",
       "                   warm_start=False)"
      ]
     },
     "execution_count": 33,
     "metadata": {},
     "output_type": "execute_result"
    }
   ],
   "source": [
    "LogReg.fit(Xtrain,Ytrain)"
   ]
  },
  {
   "cell_type": "code",
   "execution_count": 34,
   "metadata": {},
   "outputs": [],
   "source": [
    "predicted_values = LogReg.predict(Xtest)"
   ]
  },
  {
   "cell_type": "code",
   "execution_count": 35,
   "metadata": {},
   "outputs": [
    {
     "name": "stdout",
     "output_type": "stream",
     "text": [
      "Logistic Regression's Accuracy is:  0.5919354838709677\n"
     ]
    }
   ],
   "source": [
    "x =  metrics.accuracy_score(Ytest, predicted_values)\n",
    "print(\"Logistic Regression's Accuracy is: \", x)"
   ]
  },
  {
   "cell_type": "code",
   "execution_count": 36,
   "metadata": {},
   "outputs": [],
   "source": [
    "from __future__ import print_function\n",
    "from sklearn.metrics import classification_report\n",
    "from sklearn.metrics import confusion_matrix\n",
    "from sklearn.metrics import precision_score\n",
    "from sklearn.metrics import precision_recall_curve,average_precision_score,roc_curve,auc\n"
   ]
  },
  {
   "cell_type": "code",
   "execution_count": 37,
   "metadata": {},
   "outputs": [
    {
     "name": "stdout",
     "output_type": "stream",
     "text": [
      "              precision    recall  f1-score   support\n",
      "\n",
      "Adzuki Beans       1.00      1.00      1.00        19\n",
      "  Black gram       0.52      0.57      0.55        21\n",
      "    Chickpea       0.86      0.86      0.86        22\n",
      "     Coconut       0.74      0.85      0.79        20\n",
      "      Coffee       0.37      0.47      0.41        15\n",
      "      Cotton       0.32      0.47      0.38        15\n",
      "  Ground Nut       0.42      0.42      0.42        19\n",
      "        Jute       0.53      0.53      0.53        19\n",
      "Kidney Beans       0.85      0.65      0.73        17\n",
      "      Lentil       0.59      0.53      0.56        19\n",
      "  Moth Beans       0.58      0.48      0.52        23\n",
      "   Mung Bean       0.59      0.50      0.54        20\n",
      "        Peas       0.85      1.00      0.92        17\n",
      " Pigeon Peas       0.56      0.43      0.49        23\n",
      "      Rubber       0.62      0.67      0.64        24\n",
      "   Sugarcane       0.28      0.57      0.37        14\n",
      "         Tea       0.50      0.53      0.51        19\n",
      "     Tobacco       0.80      0.38      0.52        21\n",
      "       apple       0.45      1.00      0.62        17\n",
      "      banana       0.50      0.63      0.56        19\n",
      "      grapes       0.44      0.88      0.59        17\n",
      "       maize       0.36      0.17      0.24        23\n",
      "       mango       0.84      0.84      0.84        25\n",
      "      millet       1.00      1.00      1.00        13\n",
      "   muskmelon       1.00      1.00      1.00        20\n",
      "      orange       0.29      0.16      0.21        25\n",
      "      papaya       0.60      0.21      0.32        28\n",
      " pomegranate       0.17      0.05      0.07        22\n",
      "        rice       0.76      0.86      0.81        22\n",
      "  watermelon       0.65      0.85      0.74        20\n",
      "       wheat       0.42      0.36      0.39        22\n",
      "\n",
      "    accuracy                           0.59       620\n",
      "   macro avg       0.59      0.61      0.58       620\n",
      "weighted avg       0.59      0.59      0.57       620\n",
      "\n"
     ]
    }
   ],
   "source": [
    "print(classification_report(Ytest,predicted_values))"
   ]
  }
 ],
 "metadata": {
  "kernelspec": {
   "display_name": "Python 3",
   "language": "python",
   "name": "python3"
  },
  "language_info": {
   "codemirror_mode": {
    "name": "ipython",
    "version": 3
   },
   "file_extension": ".py",
   "mimetype": "text/x-python",
   "name": "python",
   "nbconvert_exporter": "python",
   "pygments_lexer": "ipython3",
   "version": "3.7.4"
  }
 },
 "nbformat": 4,
 "nbformat_minor": 2
}
