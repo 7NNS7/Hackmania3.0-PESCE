{
 "cells": [
  {
   "cell_type": "code",
   "execution_count": 2,
   "metadata": {},
   "outputs": [],
   "source": [
    "from __future__ import print_function\n",
    "import pandas as pd\n",
    "import numpy as np\n",
    "import matplotlib.pyplot as plt\n",
    "import seaborn as sns\n",
    "from sklearn.metrics import classification_report\n",
    "from sklearn import metrics"
   ]
  },
  {
   "cell_type": "code",
   "execution_count": 2,
   "metadata": {},
   "outputs": [],
   "source": [
    "df = pd.read_csv('../Datasets/cpdata.csv')"
   ]
  },
  {
   "cell_type": "code",
   "execution_count": 3,
   "metadata": {},
   "outputs": [
    {
     "data": {
      "text/html": [
       "<div>\n",
       "<style scoped>\n",
       "    .dataframe tbody tr th:only-of-type {\n",
       "        vertical-align: middle;\n",
       "    }\n",
       "\n",
       "    .dataframe tbody tr th {\n",
       "        vertical-align: top;\n",
       "    }\n",
       "\n",
       "    .dataframe thead th {\n",
       "        text-align: right;\n",
       "    }\n",
       "</style>\n",
       "<table border=\"1\" class=\"dataframe\">\n",
       "  <thead>\n",
       "    <tr style=\"text-align: right;\">\n",
       "      <th></th>\n",
       "      <th>temperature</th>\n",
       "      <th>humidity</th>\n",
       "      <th>ph</th>\n",
       "      <th>rainfall</th>\n",
       "      <th>label</th>\n",
       "    </tr>\n",
       "  </thead>\n",
       "  <tbody>\n",
       "    <tr>\n",
       "      <th>0</th>\n",
       "      <td>20.879744</td>\n",
       "      <td>82.002744</td>\n",
       "      <td>6.502985</td>\n",
       "      <td>202.935536</td>\n",
       "      <td>rice</td>\n",
       "    </tr>\n",
       "    <tr>\n",
       "      <th>1</th>\n",
       "      <td>21.770462</td>\n",
       "      <td>80.319644</td>\n",
       "      <td>7.038096</td>\n",
       "      <td>226.655537</td>\n",
       "      <td>rice</td>\n",
       "    </tr>\n",
       "    <tr>\n",
       "      <th>2</th>\n",
       "      <td>23.004459</td>\n",
       "      <td>82.320763</td>\n",
       "      <td>7.840207</td>\n",
       "      <td>263.964248</td>\n",
       "      <td>rice</td>\n",
       "    </tr>\n",
       "    <tr>\n",
       "      <th>3</th>\n",
       "      <td>26.491096</td>\n",
       "      <td>80.158363</td>\n",
       "      <td>6.980401</td>\n",
       "      <td>242.864034</td>\n",
       "      <td>rice</td>\n",
       "    </tr>\n",
       "    <tr>\n",
       "      <th>4</th>\n",
       "      <td>20.130175</td>\n",
       "      <td>81.604873</td>\n",
       "      <td>7.628473</td>\n",
       "      <td>262.717340</td>\n",
       "      <td>rice</td>\n",
       "    </tr>\n",
       "  </tbody>\n",
       "</table>\n",
       "</div>"
      ],
      "text/plain": [
       "   temperature   humidity        ph    rainfall label\n",
       "0    20.879744  82.002744  6.502985  202.935536  rice\n",
       "1    21.770462  80.319644  7.038096  226.655537  rice\n",
       "2    23.004459  82.320763  7.840207  263.964248  rice\n",
       "3    26.491096  80.158363  6.980401  242.864034  rice\n",
       "4    20.130175  81.604873  7.628473  262.717340  rice"
      ]
     },
     "execution_count": 3,
     "metadata": {},
     "output_type": "execute_result"
    }
   ],
   "source": [
    "df.head()"
   ]
  },
  {
   "cell_type": "code",
   "execution_count": 4,
   "metadata": {},
   "outputs": [
    {
     "data": {
      "text/plain": [
       "15500"
      ]
     },
     "execution_count": 4,
     "metadata": {},
     "output_type": "execute_result"
    }
   ],
   "source": [
    "df.size"
   ]
  },
  {
   "cell_type": "code",
   "execution_count": 5,
   "metadata": {},
   "outputs": [
    {
     "data": {
      "text/plain": [
       "(3100, 5)"
      ]
     },
     "execution_count": 5,
     "metadata": {},
     "output_type": "execute_result"
    }
   ],
   "source": [
    "df.shape"
   ]
  },
  {
   "cell_type": "code",
   "execution_count": 6,
   "metadata": {},
   "outputs": [
    {
     "data": {
      "text/plain": [
       "Index(['temperature', 'humidity', 'ph', 'rainfall', 'label'], dtype='object')"
      ]
     },
     "execution_count": 6,
     "metadata": {},
     "output_type": "execute_result"
    }
   ],
   "source": [
    "df.columns"
   ]
  },
  {
   "cell_type": "code",
   "execution_count": 7,
   "metadata": {},
   "outputs": [
    {
     "data": {
      "text/plain": [
       "<matplotlib.axes._subplots.AxesSubplot at 0x7fce1cf6ded0>"
      ]
     },
     "execution_count": 7,
     "metadata": {},
     "output_type": "execute_result"
    },
    {
     "data": {
      "image/png": "[encoded data removed]",
      "text/plain": [
       "<Figure size 432x288 with 1 Axes>"
      ]
     },
     "metadata": {
      "needs_background": "light"
     },
     "output_type": "display_data"
    }
   ],
   "source": [
    "sns.lineplot(data = df['temperature'])"
   ]
  },
  {
   "cell_type": "code",
   "execution_count": 8,
   "metadata": {},
   "outputs": [
    {
     "data": {
      "text/plain": [
       "<matplotlib.axes._subplots.AxesSubplot at 0x7fce1c2c6dd0>"
      ]
     },
     "execution_count": 8,
     "metadata": {},
     "output_type": "execute_result"
    },
    {
     "data": {
      "image/png": "[encoded data removed]",
      "text/plain": [
       "<Figure size 432x288 with 1 Axes>"
      ]
     },
     "metadata": {
      "needs_background": "light"
     },
     "output_type": "display_data"
    }
   ],
   "source": [
    "sns.lineplot(data = df['humidity'])"
   ]
  },
  {
   "cell_type": "code",
   "execution_count": 9,
   "metadata": {},
   "outputs": [
    {
     "data": {
      "text/plain": [
       "<matplotlib.axes._subplots.AxesSubplot at 0x7fce1c252890>"
      ]
     },
     "execution_count": 9,
     "metadata": {},
     "output_type": "execute_result"
    },
    {
     "data": {
      "image/png": "[encoded data removed]",
      "text/plain": [
       "<Figure size 432x288 with 1 Axes>"
      ]
     },
     "metadata": {
      "needs_background": "light"
     },
     "output_type": "display_data"
    }
   ],
   "source": [
    "sns.lineplot(data = df['ph'])"
   ]
  },
  {
   "cell_type": "code",
   "execution_count": 10,
   "metadata": {},
   "outputs": [
    {
     "data": {
      "text/plain": [
       "<matplotlib.axes._subplots.AxesSubplot at 0x7fce1c20a410>"
      ]
     },
     "execution_count": 10,
     "metadata": {},
     "output_type": "execute_result"
    },
    {
     "data": {
      "image/png": "[encoded data removed]",
      "text/plain": [
       "<Figure size 432x288 with 1 Axes>"
      ]
     },
     "metadata": {
      "needs_background": "light"
     },
     "output_type": "display_data"
    }
   ],
   "source": [
    "sns.lineplot(data = df['rainfall'])"
   ]
  },
  {
   "cell_type": "code",
   "execution_count": 54,
   "metadata": {},
   "outputs": [
    {
     "data": {
      "text/plain": [
       "array(['rice', 'wheat', 'Mung Bean', 'Tea', 'millet', 'maize', 'Lentil',\n",
       "       'Jute', 'Coffee', 'Cotton', 'Ground Nut', 'Peas', 'Rubber',\n",
       "       'Sugarcane', 'Tobacco', 'Kidney Beans', 'Moth Beans', 'Coconut',\n",
       "       'Black gram', 'Adzuki Beans', 'Pigeon Peas', 'Chickpea', 'banana',\n",
       "       'grapes', 'apple', 'mango', 'muskmelon', 'orange', 'papaya',\n",
       "       'pomegranate', 'watermelon'], dtype=object)"
      ]
     },
     "execution_count": 54,
     "metadata": {},
     "output_type": "execute_result"
    }
   ],
   "source": [
    "df['label'].unique()"
   ]
  },
  {
   "cell_type": "code",
   "execution_count": 11,
   "metadata": {},
   "outputs": [
    {
     "name": "stdout",
     "output_type": "stream",
     "text": [
      "0       28\n",
      "1       28\n",
      "2       28\n",
      "3       28\n",
      "4       28\n",
      "        ..\n",
      "3095    29\n",
      "3096    29\n",
      "3097    29\n",
      "3098    29\n",
      "3099    29\n",
      "Name: label, Length: 3100, dtype: int8\n"
     ]
    }
   ],
   "source": [
    "features = df[['temperature', 'humidity', 'ph', 'rainfall']]\n",
    "df['label'] = df['label'].astype('category').cat.codes\n",
    "labels = df['label']\n",
    "acc = []\n",
    "model = []\n",
    "print(labels)"
   ]
  },
  {
   "cell_type": "code",
   "execution_count": 12,
   "metadata": {},
   "outputs": [
    {
     "name": "stdout",
     "output_type": "stream",
     "text": [
      "[28 30 11 16 23 21  9  7  4  5  6 12 14 15 17  8 10  3  1  0 13  2 19 20\n",
      " 18 22 24 25 26 27 29]\n",
      "[28 30 11 16 23 21  9  7  4  5  6 12 14 15 17  8 10  3  1  0 13  2 19 20\n",
      " 18 22 24 25 26 27 29]\n"
     ]
    }
   ],
   "source": [
    "print(labels.unique())\n",
    "print(df['label'].unique())"
   ]
  },
  {
   "cell_type": "code",
   "execution_count": 13,
   "metadata": {},
   "outputs": [],
   "source": [
    "from sklearn.model_selection import train_test_split\n",
    "Xtrain, Xtest, Ytrain, Ytest = train_test_split(features,labels,test_size = 0.2,random_state =2)"
   ]
  },
  {
   "cell_type": "markdown",
   "metadata": {},
   "source": [
    "# Decision Tree"
   ]
  },
  {
   "cell_type": "code",
   "execution_count": 14,
   "metadata": {},
   "outputs": [
    {
     "name": "stdout",
     "output_type": "stream",
     "text": [
      "DecisionTrees's Accuracy is:  0.8983870967741936\n",
      "              precision    recall  f1-score   support\n",
      "\n",
      "Adzuki Beans       1.00      0.89      0.94        19\n",
      "  Black gram       1.00      0.95      0.98        21\n",
      "    Chickpea       0.96      1.00      0.98        22\n",
      "     Coconut       1.00      1.00      1.00        20\n",
      "      Coffee       0.88      1.00      0.94        15\n",
      "      Cotton       0.87      0.87      0.87        15\n",
      "  Ground Nut       0.86      0.95      0.90        19\n",
      "        Jute       0.86      0.95      0.90        19\n",
      "Kidney Beans       1.00      0.94      0.97        17\n",
      "      Lentil       0.86      0.95      0.90        19\n",
      "  Moth Beans       0.90      0.78      0.84        23\n",
      "   Mung Bean       1.00      1.00      1.00        20\n",
      "        Peas       1.00      1.00      1.00        17\n",
      " Pigeon Peas       0.80      0.52      0.63        23\n",
      "      Rubber       0.88      0.92      0.90        24\n",
      "   Sugarcane       0.91      0.71      0.80        14\n",
      "         Tea       0.76      0.84      0.80        19\n",
      "     Tobacco       0.95      0.95      0.95        21\n",
      "       apple       0.89      0.94      0.91        17\n",
      "      banana       0.94      0.89      0.92        19\n",
      "      grapes       0.89      0.94      0.91        17\n",
      "       maize       0.64      0.70      0.67        23\n",
      "       mango       0.92      0.96      0.94        25\n",
      "      millet       1.00      1.00      1.00        13\n",
      "   muskmelon       1.00      1.00      1.00        20\n",
      "      orange       0.83      0.76      0.79        25\n",
      "      papaya       0.84      0.96      0.90        28\n",
      " pomegranate       0.95      0.82      0.88        22\n",
      "        rice       0.96      1.00      0.98        22\n",
      "  watermelon       1.00      1.00      1.00        20\n",
      "       wheat       0.71      0.77      0.74        22\n",
      "\n",
      "    accuracy                           0.90       620\n",
      "   macro avg       0.90      0.90      0.90       620\n",
      "weighted avg       0.90      0.90      0.90       620\n",
      "\n"
     ]
    }
   ],
   "source": [
    "from __future__ import print_function\n",
    "import pandas as pd\n",
    "import numpy as np\n",
    "import matplotlib.pyplot as plt\n",
    "import seaborn as sns\n",
    "from sklearn.metrics import classification_report\n",
    "from sklearn import metrics\n",
    "\n",
    "df = pd.read_csv('../Datasets/cpdata.csv')\n",
    "features = df[['temperature', 'humidity', 'ph', 'rainfall']]\n",
    "labels = df['label']\n",
    "\n",
    "from sklearn.model_selection import train_test_split\n",
    "Xtrain, Xtest, Ytrain, Ytest = train_test_split(features,labels,test_size = 0.2,random_state =2)\n",
    "\n",
    "from sklearn.tree import DecisionTreeClassifier\n",
    "\n",
    "DecisionTree = DecisionTreeClassifier(criterion=\"entropy\",random_state=2,max_depth=10)\n",
    "\n",
    "DecisionTree.fit(Xtrain,Ytrain)\n",
    "\n",
    "predicted_values = DecisionTree.predict(Xtest)\n",
    "x = metrics.accuracy_score(Ytest, predicted_values)\n",
    "acc.append(x)\n",
    "model.append('Decision Tree')\n",
    "print(\"DecisionTrees's Accuracy is: \", x)\n",
    "\n",
    "print(classification_report(Ytest,predicted_values))"
   ]
  },
  {
   "cell_type": "markdown",
   "metadata": {},
   "source": [
    "# Naive Bayes"
   ]
  },
  {
   "cell_type": "code",
   "execution_count": 15,
   "metadata": {},
   "outputs": [
    {
     "name": "stdout",
     "output_type": "stream",
     "text": [
      "Naive Bayes's Accuracy is:  0.932258064516129\n",
      "              precision    recall  f1-score   support\n",
      "\n",
      "Adzuki Beans       1.00      1.00      1.00        19\n",
      "  Black gram       1.00      1.00      1.00        21\n",
      "    Chickpea       1.00      1.00      1.00        22\n",
      "     Coconut       1.00      1.00      1.00        20\n",
      "      Coffee       0.79      0.73      0.76        15\n",
      "      Cotton       0.86      0.80      0.83        15\n",
      "  Ground Nut       0.95      1.00      0.97        19\n",
      "        Jute       0.85      0.89      0.87        19\n",
      "Kidney Beans       1.00      1.00      1.00        17\n",
      "      Lentil       0.95      1.00      0.97        19\n",
      "  Moth Beans       1.00      0.91      0.95        23\n",
      "   Mung Bean       1.00      1.00      1.00        20\n",
      "        Peas       1.00      1.00      1.00        17\n",
      " Pigeon Peas       0.94      0.74      0.83        23\n",
      "      Rubber       0.96      0.92      0.94        24\n",
      "   Sugarcane       0.92      0.86      0.89        14\n",
      "         Tea       0.95      1.00      0.97        19\n",
      "     Tobacco       1.00      1.00      1.00        21\n",
      "       apple       0.84      0.94      0.89        17\n",
      "      banana       0.90      0.95      0.92        19\n",
      "      grapes       0.85      1.00      0.92        17\n",
      "       maize       0.82      0.78      0.80        23\n",
      "       mango       0.92      0.96      0.94        25\n",
      "      millet       1.00      1.00      1.00        13\n",
      "   muskmelon       1.00      1.00      1.00        20\n",
      "      orange       0.96      0.88      0.92        25\n",
      "      papaya       0.93      0.96      0.95        28\n",
      " pomegranate       0.90      0.82      0.86        22\n",
      "        rice       0.95      0.95      0.95        22\n",
      "  watermelon       1.00      1.00      1.00        20\n",
      "       wheat       0.69      0.82      0.75        22\n",
      "\n",
      "    accuracy                           0.93       620\n",
      "   macro avg       0.93      0.93      0.93       620\n",
      "weighted avg       0.93      0.93      0.93       620\n",
      "\n"
     ]
    }
   ],
   "source": [
    "from __future__ import print_function\n",
    "import pandas as pd\n",
    "from sklearn.metrics import classification_report\n",
    "from sklearn import metrics\n",
    "\n",
    "df = pd.read_csv('../Datasets/cpdata.csv')\n",
    "features = df[['temperature', 'humidity', 'ph', 'rainfall']]\n",
    "labels = df['label']\n",
    "\n",
    "from sklearn.naive_bayes import GaussianNB\n",
    "\n",
    "NaiveBayes = GaussianNB()\n",
    "\n",
    "NaiveBayes.fit(Xtrain,Ytrain)\n",
    "\n",
    "predicted_values = NaiveBayes.predict(Xtest)\n",
    "x = metrics.accuracy_score(Ytest, predicted_values)\n",
    "acc.append(x)\n",
    "model.append('Naive Bayes')\n",
    "print(\"Naive Bayes's Accuracy is: \", x)\n",
    "\n",
    "print(classification_report(Ytest,predicted_values))"
   ]
  },
  {
   "cell_type": "code",
   "execution_count": 24,
   "metadata": {},
   "outputs": [],
   "source": [
    "import pickle\n",
    "# Dump the trained Naive Bayes classifier with Pickle\n",
    "NB_pkl_filename = 'NBClassifier.pkl'\n",
    "# Open the file to save as pkl file\n",
    "NB_Model_pkl = open(NB_pkl_filename, 'wb')\n",
    "pickle.dump(NaiveBayes, NB_Model_pkl)\n",
    "# Close the pickle instances\n",
    "NB_Model_pkl.close()"
   ]
  },
  {
   "cell_type": "markdown",
   "metadata": {},
   "source": [
    "# SVM"
   ]
  },
  {
   "cell_type": "code",
   "execution_count": 17,
   "metadata": {},
   "outputs": [
    {
     "name": "stdout",
     "output_type": "stream",
     "text": [
      "SVM's Accuracy is:  0.6774193548387096\n",
      "              precision    recall  f1-score   support\n",
      "\n",
      "Adzuki Beans       1.00      0.11      0.19        19\n",
      "  Black gram       0.81      0.81      0.81        21\n",
      "    Chickpea       1.00      0.91      0.95        22\n",
      "     Coconut       1.00      0.70      0.82        20\n",
      "      Coffee       0.80      0.53      0.64        15\n",
      "      Cotton       0.80      0.53      0.64        15\n",
      "  Ground Nut       0.77      0.53      0.62        19\n",
      "        Jute       0.82      0.74      0.78        19\n",
      "Kidney Beans       1.00      0.71      0.83        17\n",
      "      Lentil       0.86      0.63      0.73        19\n",
      "  Moth Beans       0.90      0.39      0.55        23\n",
      "   Mung Bean       1.00      0.90      0.95        20\n",
      "        Peas       1.00      1.00      1.00        17\n",
      " Pigeon Peas       0.13      0.91      0.23        23\n",
      "      Rubber       1.00      0.08      0.15        24\n",
      "   Sugarcane       0.60      0.43      0.50        14\n",
      "         Tea       0.81      0.68      0.74        19\n",
      "     Tobacco       0.89      0.81      0.85        21\n",
      "       apple       0.70      0.82      0.76        17\n",
      "      banana       0.88      0.79      0.83        19\n",
      "      grapes       0.76      0.76      0.76        17\n",
      "       maize       0.71      0.52      0.60        23\n",
      "       mango       0.96      0.92      0.94        25\n",
      "      millet       1.00      1.00      1.00        13\n",
      "   muskmelon       1.00      1.00      1.00        20\n",
      "      orange       0.89      0.64      0.74        25\n",
      "      papaya       0.82      0.32      0.46        28\n",
      " pomegranate       0.84      0.73      0.78        22\n",
      "        rice       1.00      0.68      0.81        22\n",
      "  watermelon       0.95      1.00      0.98        20\n",
      "       wheat       0.56      0.64      0.60        22\n",
      "\n",
      "    accuracy                           0.68       620\n",
      "   macro avg       0.85      0.68      0.72       620\n",
      "weighted avg       0.85      0.68      0.71       620\n",
      "\n"
     ]
    }
   ],
   "source": [
    "from __future__ import print_function\n",
    "import pandas as pd\n",
    "from sklearn.metrics import classification_report\n",
    "from sklearn import metrics\n",
    "\n",
    "df = pd.read_csv('../Datasets/cpdata.csv')\n",
    "features = df[['temperature', 'humidity', 'ph', 'rainfall']]\n",
    "labels = df['label']\n",
    "\n",
    "from sklearn.model_selection import train_test_split\n",
    "Xtrain, Xtest, Ytrain, Ytest = train_test_split(features,labels,test_size = 0.2,random_state =2)\n",
    "\n",
    "from sklearn.svm import SVC\n",
    "\n",
    "SVM = SVC(gamma='auto')\n",
    "\n",
    "SVM.fit(Xtrain,Ytrain)\n",
    "\n",
    "predicted_values = SVM.predict(Xtest)\n",
    "\n",
    "x = metrics.accuracy_score(Ytest, predicted_values)\n",
    "acc.append(x)\n",
    "model.append('SVM')\n",
    "print(\"SVM's Accuracy is: \", x)\n",
    "\n",
    "print(classification_report(Ytest,predicted_values))"
   ]
  },
  {
   "cell_type": "markdown",
   "metadata": {},
   "source": [
    "# Logistic Regression"
   ]
  },
  {
   "cell_type": "code",
   "execution_count": 18,
   "metadata": {},
   "outputs": [
    {
     "name": "stdout",
     "output_type": "stream",
     "text": [
      "Logistic Regression's Accuracy is:  0.5919354838709677\n"
     ]
    },
    {
     "name": "stderr",
     "output_type": "stream",
     "text": [
      "/home/nns/anaconda3/lib/python3.7/site-packages/sklearn/linear_model/_logistic.py:940: ConvergenceWarning: lbfgs failed to converge (status=1):\n",
      "STOP: TOTAL NO. of ITERATIONS REACHED LIMIT.\n",
      "\n",
      "Increase the number of iterations (max_iter) or scale the data as shown in:\n",
      "    https://scikit-learn.org/stable/modules/preprocessing.html\n",
      "Please also refer to the documentation for alternative solver options:\n",
      "    https://scikit-learn.org/stable/modules/linear_model.html#logistic-regression\n",
      "  extra_warning_msg=_LOGISTIC_SOLVER_CONVERGENCE_MSG)\n"
     ]
    }
   ],
   "source": [
    "from __future__ import print_function\n",
    "import pandas as pd\n",
    "from sklearn.metrics import classification_report\n",
    "from sklearn import metrics\n",
    "\n",
    "df = pd.read_csv('../Datasets/cpdata.csv')\n",
    "features = df[['temperature', 'humidity', 'ph', 'rainfall']]\n",
    "labels = df['label']\n",
    "\n",
    "from sklearn.model_selection import train_test_split\n",
    "Xtrain, Xtest, Ytrain, Ytest = train_test_split(features,labels,test_size = 0.2,random_state =2)\n",
    "\n",
    "from sklearn.linear_model import LogisticRegression\n",
    "\n",
    "LogReg = LogisticRegression(random_state=2)\n",
    "\n",
    "LogReg.fit(Xtrain,Ytrain)\n",
    "\n",
    "predicted_values = LogReg.predict(Xtest)\n",
    "\n",
    "x = metrics.accuracy_score(Ytest, predicted_values)\n",
    "acc.append(x)\n",
    "model.append('Logistic Regression')\n",
    "print(\"Logistic Regression's Accuracy is: \", x)\n",
    "\n",
    "#print(classification_report(Ytest,predicted_values))"
   ]
  },
  {
   "cell_type": "code",
   "execution_count": 19,
   "metadata": {},
   "outputs": [
    {
     "data": {
      "text/plain": [
       "<matplotlib.axes._subplots.AxesSubplot at 0x7fce1c0e3410>"
      ]
     },
     "execution_count": 19,
     "metadata": {},
     "output_type": "execute_result"
    },
    {
     "data": {
      "image/png": "[encoded data removed]",
      "text/plain": [
       "<Figure size 1500x1000 with 1 Axes>"
      ]
     },
     "metadata": {
      "needs_background": "light"
     },
     "output_type": "display_data"
    }
   ],
   "source": [
    "plt.figure(dpi=250)\n",
    "plt.title('Accuracy Comparison')\n",
    "plt.xlabel('Algorithm')\n",
    "plt.ylabel('Accuracy')\n",
    "sns.barplot(x = model,y = acc,palette='dark')"
   ]
  },
  {
   "cell_type": "markdown",
   "metadata": {},
   "source": [
    "# Decision Tree : 90%\n",
    "# Naive Bayes : 93%\n",
    "# SVM : 63%\n",
    "# Logistic Regression : 57%"
   ]
  },
  {
   "cell_type": "code",
   "execution_count": 20,
   "metadata": {},
   "outputs": [],
   "source": [
    "encoders = [28, 30, 11, 16, 23, 21,  9,  7,  4,  5,  6, 12, 14, 15, 17,  8, 10,\n",
    "        3,  1,  0, 13,  2, 19, 20, 18, 22, 24, 25, 26, 27, 29]\n",
    "crop_names =  ['rice', 'wheat', 'Mung Bean', 'Tea', 'millet', 'maize', 'Lentil',\n",
    "       'Jute', 'Coffee', 'Cotton', 'Ground Nut', 'Peas', 'Rubber',\n",
    "       'Sugarcane', 'Tobacco', 'Kidney Beans', 'Moth Beans', 'Coconut',\n",
    "       'Black gram', 'Adzuki Beans', 'Pigeon Peas', 'Chickpea', 'banana',\n",
    "       'grapes', 'apple', 'mango', 'muskmelon', 'orange', 'papaya',\n",
    "       'pomegranate', 'watermelon']\n",
    "\n",
    "crop_names = dict(zip(encoders,crop_names))"
   ]
  },
  {
   "cell_type": "code",
   "execution_count": 25,
   "metadata": {},
   "outputs": [
    {
     "name": "stdout",
     "output_type": "stream",
     "text": [
      "rice\n"
     ]
    }
   ],
   "source": [
    "value = features.iloc[:1]\n",
    "crop_names = print(NaiveBayes.predict(value)[0])"
   ]
  },
  {
   "cell_type": "code",
   "execution_count": 26,
   "metadata": {},
   "outputs": [
    {
     "data": {
      "text/html": [
       "<div>\n",
       "<style scoped>\n",
       "    .dataframe tbody tr th:only-of-type {\n",
       "        vertical-align: middle;\n",
       "    }\n",
       "\n",
       "    .dataframe tbody tr th {\n",
       "        vertical-align: top;\n",
       "    }\n",
       "\n",
       "    .dataframe thead th {\n",
       "        text-align: right;\n",
       "    }\n",
       "</style>\n",
       "<table border=\"1\" class=\"dataframe\">\n",
       "  <thead>\n",
       "    <tr style=\"text-align: right;\">\n",
       "      <th></th>\n",
       "      <th>temperature</th>\n",
       "      <th>humidity</th>\n",
       "      <th>ph</th>\n",
       "      <th>rainfall</th>\n",
       "    </tr>\n",
       "  </thead>\n",
       "  <tbody>\n",
       "    <tr>\n",
       "      <th>0</th>\n",
       "      <td>20.879744</td>\n",
       "      <td>82.002744</td>\n",
       "      <td>6.502985</td>\n",
       "      <td>202.935536</td>\n",
       "    </tr>\n",
       "  </tbody>\n",
       "</table>\n",
       "</div>"
      ],
      "text/plain": [
       "   temperature   humidity        ph    rainfall\n",
       "0    20.879744  82.002744  6.502985  202.935536"
      ]
     },
     "execution_count": 26,
     "metadata": {},
     "output_type": "execute_result"
    }
   ],
   "source": [
    "value"
   ]
  },
  {
   "cell_type": "code",
   "execution_count": 53,
   "metadata": {},
   "outputs": [],
   "source": [
    "fert = pd.read_csv('../Datasets/Fertilizer.csv')"
   ]
  },
  {
   "cell_type": "code",
   "execution_count": 60,
   "metadata": {},
   "outputs": [
    {
     "data": {
      "text/plain": [
       "array(['Rice', 'Jowar(Sorghum)', 'Barley(JAV)', 'Maize',\n",
       "       'Ragi( naachnnii)', 'Chickpeas(Channa)', 'French Beans(Farasbi)',\n",
       "       'Fava beans (Papdi - Val)', 'Lima beans(Pavta)',\n",
       "       'Cluster Beans(Gavar)', 'Soyabean', 'Black eyed beans( chawli)',\n",
       "       'Kidney beans', 'pigeon peas(Toor Dal)', 'Moth bean(Matki)',\n",
       "       'Mung beans', 'Green Peas', 'Horse Gram(kulthi)', 'Black Gram',\n",
       "       'Rapeseed (Mohri)', 'Coriander seeds', 'Mustard seeds',\n",
       "       'sesame seed', 'Cumin seeds', 'Lentils(Masoor Dal)', 'Brinjal',\n",
       "       'Beetroot', 'Bitter Gourd', 'Bottle Gourd', 'Capsicum', 'Cabbage',\n",
       "       'Carrot', 'Cauliflower', 'Cucumber', 'Coriander leaves',\n",
       "       'Curry leaves', 'Drumstick – moringa', 'Chili', 'Lady Finger',\n",
       "       'Mushroom', 'Onion', 'Potato', 'Pumpkin', 'Radish', 'Olive',\n",
       "       'Sweet Potato', 'Fenugreek Leaf(methi)', 'Spinach', 'Ridgegourd',\n",
       "       'Gooseberry(Amla)', 'Jambun(Syzygium cumini)',\n",
       "       'Ziziphus mauritiana(Bor)', 'Garcinia indica(kokam)', 'Tamarind',\n",
       "       'Tapioca(Suran)', 'Garlic', 'Lemon', 'Tomato', 'Ash Gourd',\n",
       "       'Pineapple', 'Pomegranate', 'Banana', 'Mango', 'Grapes',\n",
       "       'Jackfruit', 'Guava', 'Water Melon', 'Musk Melon', 'Apricot',\n",
       "       'Apple', 'Chickoo', 'Custard apple', 'Dates', 'Figs', 'Orange',\n",
       "       'Papaya', 'Aniseed', 'Asafoetida', 'Bay Leaf', 'Black Pepper',\n",
       "       'Cardamom', 'Cinnamon', 'Cloves', 'Jaiphal(Nutmeg)', 'Ginger',\n",
       "       'Turmeric', 'Cashewnuts', 'Raisins', 'Coconut', 'Almond Nut',\n",
       "       'Arecanut', 'Pistachio Nut', 'Lemon Grass', 'Cotton', 'Jute',\n",
       "       'Coffee', 'Sunflower'], dtype=object)"
      ]
     },
     "execution_count": 60,
     "metadata": {},
     "output_type": "execute_result"
    }
   ],
   "source": [
    "fert['Crop'].unique()"
   ]
  },
  {
   "cell_type": "code",
   "execution_count": 65,
   "metadata": {},
   "outputs": [],
   "source": [
    "crop_tmp = ['rice', 'wheat', 'Mung Bean', 'Tea', 'millet', 'maize', 'Lentil',\n",
    "       'Jute', 'Coffee', 'Cotton', 'Ground Nut', 'Peas', 'Rubber',\n",
    "       'Sugarcane', 'Tobacco', 'Kidney Beans', 'Moth Beans', 'Coconut',\n",
    "       'Black gram', 'Adzuki Beans', 'Pigeon Peas', 'Chickpea', 'banana',\n",
    "       'grapes', 'apple', 'mango', 'muskmelon', 'orange', 'papaya',\n",
    "       'pomegranate', 'watermelon']"
   ]
  },
  {
   "cell_type": "code",
   "execution_count": 70,
   "metadata": {},
   "outputs": [
    {
     "name": "stdout",
     "output_type": "stream",
     "text": [
      "31\n",
      "97\n"
     ]
    }
   ],
   "source": [
    "print(len(crop_tmp))\n",
    "print(len(fert['Crop'].unique()))"
   ]
  },
  {
   "cell_type": "code",
   "execution_count": 63,
   "metadata": {},
   "outputs": [],
   "source": [
    "notthere = ['rice', 'wheat', 'Mung Bean', 'Tea', 'millet', 'maize', 'Lentil','Jute', 'Coffee', 'Cotton', 'Ground Nut', 'Peas', 'Rubber', 'Sugarcane','Tobacco', 'Kidney Beans', 'Moth Beans', 'Coconut', 'Black gram','Adzuki Beans', 'Pigeon Peas', 'Chickpea', 'banana', 'grapes', 'apple','mango', 'muskmelon', 'orange', 'papaya', 'pomegranate', 'watermelon']"
   ]
  },
  {
   "cell_type": "code",
   "execution_count": 67,
   "metadata": {},
   "outputs": [
    {
     "name": "stdout",
     "output_type": "stream",
     "text": [
      "['rice', 'wheat', 'Mung Bean', 'Tea', 'millet', 'maize', 'Lentil', 'Jute', 'Coffee', 'Cotton', 'Ground Nut', 'Peas', 'Rubber', 'Sugarcane', 'Tobacco', 'Kidney Beans', 'Moth Beans', 'Coconut', 'Black gram', 'Adzuki Beans', 'Pigeon Peas', 'Chickpea', 'banana', 'grapes', 'apple', 'mango', 'muskmelon', 'orange', 'papaya', 'pomegranate', 'watermelon']\n",
      "['rice', 'wheat', 'Mung Bean', 'Tea', 'millet', 'maize', 'Lentil', 'Jute', 'Coffee', 'Cotton', 'Ground Nut', 'Peas', 'Rubber', 'Sugarcane', 'Tobacco', 'Kidney Beans', 'Moth Beans', 'Coconut', 'Black gram', 'Adzuki Beans', 'Pigeon Peas', 'Chickpea', 'banana', 'grapes', 'apple', 'mango', 'muskmelon', 'orange', 'papaya', 'pomegranate', 'watermelon']\n"
     ]
    }
   ],
   "source": [
    "print(notthere)\n",
    "print(crop_tmp)"
   ]
  },
  {
   "cell_type": "code",
   "execution_count": 69,
   "metadata": {},
   "outputs": [],
   "source": [
    "rainfall = pd.read_csv('../Datasets/district wise rainfall normal.csv')"
   ]
  },
  {
   "cell_type": "code",
   "execution_count": 70,
   "metadata": {},
   "outputs": [
    {
     "data": {
      "text/html": [
       "<div>\n",
       "<style scoped>\n",
       "    .dataframe tbody tr th:only-of-type {\n",
       "        vertical-align: middle;\n",
       "    }\n",
       "\n",
       "    .dataframe tbody tr th {\n",
       "        vertical-align: top;\n",
       "    }\n",
       "\n",
       "    .dataframe thead th {\n",
       "        text-align: right;\n",
       "    }\n",
       "</style>\n",
       "<table border=\"1\" class=\"dataframe\">\n",
       "  <thead>\n",
       "    <tr style=\"text-align: right;\">\n",
       "      <th></th>\n",
       "      <th>STATE_UT_NAME</th>\n",
       "      <th>DISTRICT</th>\n",
       "      <th>1</th>\n",
       "      <th>2</th>\n",
       "      <th>3</th>\n",
       "      <th>4</th>\n",
       "      <th>5</th>\n",
       "      <th>6</th>\n",
       "      <th>7</th>\n",
       "      <th>8</th>\n",
       "      <th>9</th>\n",
       "      <th>10</th>\n",
       "      <th>11</th>\n",
       "      <th>12</th>\n",
       "      <th>ANNUAL</th>\n",
       "      <th>Jan-Feb</th>\n",
       "      <th>Mar-May</th>\n",
       "      <th>Jun-Sep</th>\n",
       "      <th>Oct-Dec</th>\n",
       "    </tr>\n",
       "  </thead>\n",
       "  <tbody>\n",
       "    <tr>\n",
       "      <th>0</th>\n",
       "      <td>ANDAMAN And NICOBAR ISLANDS</td>\n",
       "      <td>NICOBAR</td>\n",
       "      <td>107.3</td>\n",
       "      <td>57.9</td>\n",
       "      <td>65.2</td>\n",
       "      <td>117.0</td>\n",
       "      <td>358.5</td>\n",
       "      <td>295.5</td>\n",
       "      <td>285.0</td>\n",
       "      <td>271.9</td>\n",
       "      <td>354.8</td>\n",
       "      <td>326.0</td>\n",
       "      <td>315.2</td>\n",
       "      <td>250.9</td>\n",
       "      <td>2805.2</td>\n",
       "      <td>165.2</td>\n",
       "      <td>540.7</td>\n",
       "      <td>1207.2</td>\n",
       "      <td>892.1</td>\n",
       "    </tr>\n",
       "    <tr>\n",
       "      <th>1</th>\n",
       "      <td>ANDAMAN And NICOBAR ISLANDS</td>\n",
       "      <td>SOUTH ANDAMAN</td>\n",
       "      <td>43.7</td>\n",
       "      <td>26.0</td>\n",
       "      <td>18.6</td>\n",
       "      <td>90.5</td>\n",
       "      <td>374.4</td>\n",
       "      <td>457.2</td>\n",
       "      <td>421.3</td>\n",
       "      <td>423.1</td>\n",
       "      <td>455.6</td>\n",
       "      <td>301.2</td>\n",
       "      <td>275.8</td>\n",
       "      <td>128.3</td>\n",
       "      <td>3015.7</td>\n",
       "      <td>69.7</td>\n",
       "      <td>483.5</td>\n",
       "      <td>1757.2</td>\n",
       "      <td>705.3</td>\n",
       "    </tr>\n",
       "    <tr>\n",
       "      <th>2</th>\n",
       "      <td>ANDAMAN And NICOBAR ISLANDS</td>\n",
       "      <td>N &amp; M ANDAMAN</td>\n",
       "      <td>32.7</td>\n",
       "      <td>15.9</td>\n",
       "      <td>8.6</td>\n",
       "      <td>53.4</td>\n",
       "      <td>343.6</td>\n",
       "      <td>503.3</td>\n",
       "      <td>465.4</td>\n",
       "      <td>460.9</td>\n",
       "      <td>454.8</td>\n",
       "      <td>276.1</td>\n",
       "      <td>198.6</td>\n",
       "      <td>100.0</td>\n",
       "      <td>2913.3</td>\n",
       "      <td>48.6</td>\n",
       "      <td>405.6</td>\n",
       "      <td>1884.4</td>\n",
       "      <td>574.7</td>\n",
       "    </tr>\n",
       "    <tr>\n",
       "      <th>3</th>\n",
       "      <td>ARUNACHAL PRADESH</td>\n",
       "      <td>LOHIT</td>\n",
       "      <td>42.2</td>\n",
       "      <td>80.8</td>\n",
       "      <td>176.4</td>\n",
       "      <td>358.5</td>\n",
       "      <td>306.4</td>\n",
       "      <td>447.0</td>\n",
       "      <td>660.1</td>\n",
       "      <td>427.8</td>\n",
       "      <td>313.6</td>\n",
       "      <td>167.1</td>\n",
       "      <td>34.1</td>\n",
       "      <td>29.8</td>\n",
       "      <td>3043.8</td>\n",
       "      <td>123.0</td>\n",
       "      <td>841.3</td>\n",
       "      <td>1848.5</td>\n",
       "      <td>231.0</td>\n",
       "    </tr>\n",
       "    <tr>\n",
       "      <th>4</th>\n",
       "      <td>ARUNACHAL PRADESH</td>\n",
       "      <td>EAST SIANG</td>\n",
       "      <td>33.3</td>\n",
       "      <td>79.5</td>\n",
       "      <td>105.9</td>\n",
       "      <td>216.5</td>\n",
       "      <td>323.0</td>\n",
       "      <td>738.3</td>\n",
       "      <td>990.9</td>\n",
       "      <td>711.2</td>\n",
       "      <td>568.0</td>\n",
       "      <td>206.9</td>\n",
       "      <td>29.5</td>\n",
       "      <td>31.7</td>\n",
       "      <td>4034.7</td>\n",
       "      <td>112.8</td>\n",
       "      <td>645.4</td>\n",
       "      <td>3008.4</td>\n",
       "      <td>268.1</td>\n",
       "    </tr>\n",
       "  </tbody>\n",
       "</table>\n",
       "</div>"
      ],
      "text/plain": [
       "                 STATE_UT_NAME       DISTRICT      1     2      3      4  \\\n",
       "0  ANDAMAN And NICOBAR ISLANDS        NICOBAR  107.3  57.9   65.2  117.0   \n",
       "1  ANDAMAN And NICOBAR ISLANDS  SOUTH ANDAMAN   43.7  26.0   18.6   90.5   \n",
       "2  ANDAMAN And NICOBAR ISLANDS  N & M ANDAMAN   32.7  15.9    8.6   53.4   \n",
       "3            ARUNACHAL PRADESH          LOHIT   42.2  80.8  176.4  358.5   \n",
       "4            ARUNACHAL PRADESH     EAST SIANG   33.3  79.5  105.9  216.5   \n",
       "\n",
       "       5      6      7      8      9     10     11     12  ANNUAL  Jan-Feb  \\\n",
       "0  358.5  295.5  285.0  271.9  354.8  326.0  315.2  250.9  2805.2    165.2   \n",
       "1  374.4  457.2  421.3  423.1  455.6  301.2  275.8  128.3  3015.7     69.7   \n",
       "2  343.6  503.3  465.4  460.9  454.8  276.1  198.6  100.0  2913.3     48.6   \n",
       "3  306.4  447.0  660.1  427.8  313.6  167.1   34.1   29.8  3043.8    123.0   \n",
       "4  323.0  738.3  990.9  711.2  568.0  206.9   29.5   31.7  4034.7    112.8   \n",
       "\n",
       "   Mar-May  Jun-Sep  Oct-Dec  \n",
       "0    540.7   1207.2    892.1  \n",
       "1    483.5   1757.2    705.3  \n",
       "2    405.6   1884.4    574.7  \n",
       "3    841.3   1848.5    231.0  \n",
       "4    645.4   3008.4    268.1  "
      ]
     },
     "execution_count": 70,
     "metadata": {},
     "output_type": "execute_result"
    }
   ],
   "source": [
    "rainfall.head()"
   ]
  },
  {
   "cell_type": "code",
   "execution_count": 71,
   "metadata": {},
   "outputs": [],
   "source": [
    "rainfall  = rainfall[rainfall['STATE_UT_NAME'] == \"KARNATAKA\"]"
   ]
  },
  {
   "cell_type": "code",
   "execution_count": 72,
   "metadata": {},
   "outputs": [
    {
     "data": {
      "text/html": [
       "<div>\n",
       "<style scoped>\n",
       "    .dataframe tbody tr th:only-of-type {\n",
       "        vertical-align: middle;\n",
       "    }\n",
       "\n",
       "    .dataframe tbody tr th {\n",
       "        vertical-align: top;\n",
       "    }\n",
       "\n",
       "    .dataframe thead th {\n",
       "        text-align: right;\n",
       "    }\n",
       "</style>\n",
       "<table border=\"1\" class=\"dataframe\">\n",
       "  <thead>\n",
       "    <tr style=\"text-align: right;\">\n",
       "      <th></th>\n",
       "      <th>STATE_UT_NAME</th>\n",
       "      <th>DISTRICT</th>\n",
       "      <th>1</th>\n",
       "      <th>2</th>\n",
       "      <th>3</th>\n",
       "      <th>4</th>\n",
       "      <th>5</th>\n",
       "      <th>6</th>\n",
       "      <th>7</th>\n",
       "      <th>8</th>\n",
       "      <th>9</th>\n",
       "      <th>10</th>\n",
       "      <th>11</th>\n",
       "      <th>12</th>\n",
       "      <th>ANNUAL</th>\n",
       "      <th>Jan-Feb</th>\n",
       "      <th>Mar-May</th>\n",
       "      <th>Jun-Sep</th>\n",
       "      <th>Oct-Dec</th>\n",
       "    </tr>\n",
       "  </thead>\n",
       "  <tbody>\n",
       "    <tr>\n",
       "      <th>596</th>\n",
       "      <td>KARNATAKA</td>\n",
       "      <td>UTTAR KANNADA</td>\n",
       "      <td>0.3</td>\n",
       "      <td>0.1</td>\n",
       "      <td>2.7</td>\n",
       "      <td>22.1</td>\n",
       "      <td>114.0</td>\n",
       "      <td>740.9</td>\n",
       "      <td>1053.8</td>\n",
       "      <td>667.7</td>\n",
       "      <td>258.5</td>\n",
       "      <td>155.1</td>\n",
       "      <td>44.1</td>\n",
       "      <td>11.2</td>\n",
       "      <td>3070.5</td>\n",
       "      <td>0.4</td>\n",
       "      <td>138.8</td>\n",
       "      <td>2720.9</td>\n",
       "      <td>210.4</td>\n",
       "    </tr>\n",
       "    <tr>\n",
       "      <th>597</th>\n",
       "      <td>KARNATAKA</td>\n",
       "      <td>DAKSHIN KANDA</td>\n",
       "      <td>1.9</td>\n",
       "      <td>0.7</td>\n",
       "      <td>6.4</td>\n",
       "      <td>39.8</td>\n",
       "      <td>180.9</td>\n",
       "      <td>977.2</td>\n",
       "      <td>1227.2</td>\n",
       "      <td>833.6</td>\n",
       "      <td>313.6</td>\n",
       "      <td>236.9</td>\n",
       "      <td>82.0</td>\n",
       "      <td>15.6</td>\n",
       "      <td>3915.8</td>\n",
       "      <td>2.6</td>\n",
       "      <td>227.1</td>\n",
       "      <td>3351.6</td>\n",
       "      <td>334.5</td>\n",
       "    </tr>\n",
       "    <tr>\n",
       "      <th>598</th>\n",
       "      <td>KARNATAKA</td>\n",
       "      <td>UDUPI</td>\n",
       "      <td>1.4</td>\n",
       "      <td>0.4</td>\n",
       "      <td>4.1</td>\n",
       "      <td>29.4</td>\n",
       "      <td>193.8</td>\n",
       "      <td>1081.0</td>\n",
       "      <td>1371.6</td>\n",
       "      <td>902.2</td>\n",
       "      <td>404.9</td>\n",
       "      <td>223.8</td>\n",
       "      <td>74.6</td>\n",
       "      <td>18.8</td>\n",
       "      <td>4306.0</td>\n",
       "      <td>1.8</td>\n",
       "      <td>227.3</td>\n",
       "      <td>3759.7</td>\n",
       "      <td>317.2</td>\n",
       "    </tr>\n",
       "    <tr>\n",
       "      <th>599</th>\n",
       "      <td>KARNATAKA</td>\n",
       "      <td>BELGAM</td>\n",
       "      <td>0.7</td>\n",
       "      <td>0.9</td>\n",
       "      <td>6.2</td>\n",
       "      <td>30.2</td>\n",
       "      <td>74.8</td>\n",
       "      <td>130.4</td>\n",
       "      <td>204.0</td>\n",
       "      <td>126.7</td>\n",
       "      <td>113.0</td>\n",
       "      <td>116.6</td>\n",
       "      <td>30.6</td>\n",
       "      <td>5.1</td>\n",
       "      <td>839.2</td>\n",
       "      <td>1.6</td>\n",
       "      <td>111.2</td>\n",
       "      <td>574.1</td>\n",
       "      <td>152.3</td>\n",
       "    </tr>\n",
       "    <tr>\n",
       "      <th>600</th>\n",
       "      <td>KARNATAKA</td>\n",
       "      <td>BIDAR</td>\n",
       "      <td>5.9</td>\n",
       "      <td>6.1</td>\n",
       "      <td>10.1</td>\n",
       "      <td>21.7</td>\n",
       "      <td>31.4</td>\n",
       "      <td>137.1</td>\n",
       "      <td>190.7</td>\n",
       "      <td>196.6</td>\n",
       "      <td>170.5</td>\n",
       "      <td>93.5</td>\n",
       "      <td>20.9</td>\n",
       "      <td>6.2</td>\n",
       "      <td>890.7</td>\n",
       "      <td>12.0</td>\n",
       "      <td>63.2</td>\n",
       "      <td>694.9</td>\n",
       "      <td>120.6</td>\n",
       "    </tr>\n",
       "    <tr>\n",
       "      <th>601</th>\n",
       "      <td>KARNATAKA</td>\n",
       "      <td>BIJAPUR</td>\n",
       "      <td>2.4</td>\n",
       "      <td>2.7</td>\n",
       "      <td>5.2</td>\n",
       "      <td>20.1</td>\n",
       "      <td>46.5</td>\n",
       "      <td>94.5</td>\n",
       "      <td>91.8</td>\n",
       "      <td>91.3</td>\n",
       "      <td>158.4</td>\n",
       "      <td>111.7</td>\n",
       "      <td>24.9</td>\n",
       "      <td>6.9</td>\n",
       "      <td>656.4</td>\n",
       "      <td>5.1</td>\n",
       "      <td>71.8</td>\n",
       "      <td>436.0</td>\n",
       "      <td>143.5</td>\n",
       "    </tr>\n",
       "    <tr>\n",
       "      <th>602</th>\n",
       "      <td>KARNATAKA</td>\n",
       "      <td>DHARWAD</td>\n",
       "      <td>2.3</td>\n",
       "      <td>3.2</td>\n",
       "      <td>6.9</td>\n",
       "      <td>46.6</td>\n",
       "      <td>82.5</td>\n",
       "      <td>113.8</td>\n",
       "      <td>149.1</td>\n",
       "      <td>101.6</td>\n",
       "      <td>119.5</td>\n",
       "      <td>120.4</td>\n",
       "      <td>39.6</td>\n",
       "      <td>6.2</td>\n",
       "      <td>791.7</td>\n",
       "      <td>5.5</td>\n",
       "      <td>136.0</td>\n",
       "      <td>484.0</td>\n",
       "      <td>166.2</td>\n",
       "    </tr>\n",
       "    <tr>\n",
       "      <th>603</th>\n",
       "      <td>KARNATAKA</td>\n",
       "      <td>GULBARGA</td>\n",
       "      <td>4.3</td>\n",
       "      <td>2.9</td>\n",
       "      <td>6.2</td>\n",
       "      <td>19.7</td>\n",
       "      <td>36.4</td>\n",
       "      <td>112.8</td>\n",
       "      <td>156.1</td>\n",
       "      <td>167.6</td>\n",
       "      <td>184.0</td>\n",
       "      <td>105.3</td>\n",
       "      <td>20.8</td>\n",
       "      <td>4.5</td>\n",
       "      <td>820.6</td>\n",
       "      <td>7.2</td>\n",
       "      <td>62.3</td>\n",
       "      <td>620.5</td>\n",
       "      <td>130.6</td>\n",
       "    </tr>\n",
       "    <tr>\n",
       "      <th>604</th>\n",
       "      <td>KARNATAKA</td>\n",
       "      <td>YADGIR</td>\n",
       "      <td>4.4</td>\n",
       "      <td>3.6</td>\n",
       "      <td>5.2</td>\n",
       "      <td>20.5</td>\n",
       "      <td>36.8</td>\n",
       "      <td>116.8</td>\n",
       "      <td>153.0</td>\n",
       "      <td>161.2</td>\n",
       "      <td>179.8</td>\n",
       "      <td>123.4</td>\n",
       "      <td>24.5</td>\n",
       "      <td>5.3</td>\n",
       "      <td>834.5</td>\n",
       "      <td>8.0</td>\n",
       "      <td>62.5</td>\n",
       "      <td>610.8</td>\n",
       "      <td>153.2</td>\n",
       "    </tr>\n",
       "    <tr>\n",
       "      <th>605</th>\n",
       "      <td>KARNATAKA</td>\n",
       "      <td>RAICHUR</td>\n",
       "      <td>1.4</td>\n",
       "      <td>2.0</td>\n",
       "      <td>4.1</td>\n",
       "      <td>17.7</td>\n",
       "      <td>40.5</td>\n",
       "      <td>81.7</td>\n",
       "      <td>110.2</td>\n",
       "      <td>122.2</td>\n",
       "      <td>147.5</td>\n",
       "      <td>110.5</td>\n",
       "      <td>21.4</td>\n",
       "      <td>5.9</td>\n",
       "      <td>665.1</td>\n",
       "      <td>3.4</td>\n",
       "      <td>62.3</td>\n",
       "      <td>461.6</td>\n",
       "      <td>137.8</td>\n",
       "    </tr>\n",
       "    <tr>\n",
       "      <th>606</th>\n",
       "      <td>KARNATAKA</td>\n",
       "      <td>BAGALKOTE</td>\n",
       "      <td>1.8</td>\n",
       "      <td>1.5</td>\n",
       "      <td>4.5</td>\n",
       "      <td>23.5</td>\n",
       "      <td>57.3</td>\n",
       "      <td>80.1</td>\n",
       "      <td>73.6</td>\n",
       "      <td>72.5</td>\n",
       "      <td>137.1</td>\n",
       "      <td>112.8</td>\n",
       "      <td>25.3</td>\n",
       "      <td>7.0</td>\n",
       "      <td>597.0</td>\n",
       "      <td>3.3</td>\n",
       "      <td>85.3</td>\n",
       "      <td>363.3</td>\n",
       "      <td>145.1</td>\n",
       "    </tr>\n",
       "    <tr>\n",
       "      <th>607</th>\n",
       "      <td>KARNATAKA</td>\n",
       "      <td>GADAG</td>\n",
       "      <td>1.2</td>\n",
       "      <td>1.0</td>\n",
       "      <td>3.9</td>\n",
       "      <td>33.5</td>\n",
       "      <td>71.7</td>\n",
       "      <td>85.1</td>\n",
       "      <td>70.4</td>\n",
       "      <td>75.3</td>\n",
       "      <td>137.5</td>\n",
       "      <td>121.1</td>\n",
       "      <td>33.0</td>\n",
       "      <td>7.5</td>\n",
       "      <td>641.2</td>\n",
       "      <td>2.2</td>\n",
       "      <td>109.1</td>\n",
       "      <td>368.3</td>\n",
       "      <td>161.6</td>\n",
       "    </tr>\n",
       "    <tr>\n",
       "      <th>608</th>\n",
       "      <td>KARNATAKA</td>\n",
       "      <td>HAVERI</td>\n",
       "      <td>0.3</td>\n",
       "      <td>0.5</td>\n",
       "      <td>4.0</td>\n",
       "      <td>43.6</td>\n",
       "      <td>78.5</td>\n",
       "      <td>114.7</td>\n",
       "      <td>169.8</td>\n",
       "      <td>111.1</td>\n",
       "      <td>99.5</td>\n",
       "      <td>119.0</td>\n",
       "      <td>43.9</td>\n",
       "      <td>7.0</td>\n",
       "      <td>791.9</td>\n",
       "      <td>0.8</td>\n",
       "      <td>126.1</td>\n",
       "      <td>495.1</td>\n",
       "      <td>169.9</td>\n",
       "    </tr>\n",
       "    <tr>\n",
       "      <th>609</th>\n",
       "      <td>KARNATAKA</td>\n",
       "      <td>KOPPAL</td>\n",
       "      <td>1.2</td>\n",
       "      <td>0.4</td>\n",
       "      <td>2.5</td>\n",
       "      <td>19.2</td>\n",
       "      <td>50.5</td>\n",
       "      <td>72.2</td>\n",
       "      <td>75.6</td>\n",
       "      <td>89.1</td>\n",
       "      <td>145.7</td>\n",
       "      <td>108.1</td>\n",
       "      <td>25.8</td>\n",
       "      <td>8.0</td>\n",
       "      <td>598.3</td>\n",
       "      <td>1.6</td>\n",
       "      <td>72.2</td>\n",
       "      <td>382.6</td>\n",
       "      <td>141.9</td>\n",
       "    </tr>\n",
       "    <tr>\n",
       "      <th>610</th>\n",
       "      <td>KARNATAKA</td>\n",
       "      <td>BANGALORE RUR</td>\n",
       "      <td>1.7</td>\n",
       "      <td>5.8</td>\n",
       "      <td>7.6</td>\n",
       "      <td>36.2</td>\n",
       "      <td>93.1</td>\n",
       "      <td>71.2</td>\n",
       "      <td>91.7</td>\n",
       "      <td>118.1</td>\n",
       "      <td>170.9</td>\n",
       "      <td>171.8</td>\n",
       "      <td>55.4</td>\n",
       "      <td>13.5</td>\n",
       "      <td>837.0</td>\n",
       "      <td>7.5</td>\n",
       "      <td>136.9</td>\n",
       "      <td>451.9</td>\n",
       "      <td>240.7</td>\n",
       "    </tr>\n",
       "    <tr>\n",
       "      <th>611</th>\n",
       "      <td>KARNATAKA</td>\n",
       "      <td>BELLARY</td>\n",
       "      <td>1.4</td>\n",
       "      <td>1.4</td>\n",
       "      <td>2.9</td>\n",
       "      <td>26.2</td>\n",
       "      <td>57.9</td>\n",
       "      <td>72.4</td>\n",
       "      <td>77.0</td>\n",
       "      <td>89.3</td>\n",
       "      <td>137.3</td>\n",
       "      <td>116.3</td>\n",
       "      <td>31.1</td>\n",
       "      <td>9.6</td>\n",
       "      <td>622.8</td>\n",
       "      <td>2.8</td>\n",
       "      <td>87.0</td>\n",
       "      <td>376.0</td>\n",
       "      <td>157.0</td>\n",
       "    </tr>\n",
       "    <tr>\n",
       "      <th>612</th>\n",
       "      <td>KARNATAKA</td>\n",
       "      <td>CHIKMAGALUR</td>\n",
       "      <td>1.6</td>\n",
       "      <td>2.0</td>\n",
       "      <td>12.0</td>\n",
       "      <td>60.2</td>\n",
       "      <td>105.9</td>\n",
       "      <td>395.0</td>\n",
       "      <td>662.1</td>\n",
       "      <td>425.0</td>\n",
       "      <td>175.2</td>\n",
       "      <td>167.4</td>\n",
       "      <td>58.8</td>\n",
       "      <td>12.3</td>\n",
       "      <td>2077.5</td>\n",
       "      <td>3.6</td>\n",
       "      <td>178.1</td>\n",
       "      <td>1657.3</td>\n",
       "      <td>238.5</td>\n",
       "    </tr>\n",
       "    <tr>\n",
       "      <th>613</th>\n",
       "      <td>KARNATAKA</td>\n",
       "      <td>CHITRADURGA</td>\n",
       "      <td>1.4</td>\n",
       "      <td>1.2</td>\n",
       "      <td>4.4</td>\n",
       "      <td>25.8</td>\n",
       "      <td>64.9</td>\n",
       "      <td>50.5</td>\n",
       "      <td>56.1</td>\n",
       "      <td>58.9</td>\n",
       "      <td>105.5</td>\n",
       "      <td>116.4</td>\n",
       "      <td>33.8</td>\n",
       "      <td>8.8</td>\n",
       "      <td>527.7</td>\n",
       "      <td>2.6</td>\n",
       "      <td>95.1</td>\n",
       "      <td>271.0</td>\n",
       "      <td>159.0</td>\n",
       "    </tr>\n",
       "    <tr>\n",
       "      <th>614</th>\n",
       "      <td>KARNATAKA</td>\n",
       "      <td>KODAGU</td>\n",
       "      <td>3.5</td>\n",
       "      <td>4.2</td>\n",
       "      <td>18.5</td>\n",
       "      <td>89.8</td>\n",
       "      <td>152.7</td>\n",
       "      <td>542.2</td>\n",
       "      <td>884.4</td>\n",
       "      <td>543.9</td>\n",
       "      <td>211.4</td>\n",
       "      <td>201.7</td>\n",
       "      <td>71.6</td>\n",
       "      <td>17.5</td>\n",
       "      <td>2741.4</td>\n",
       "      <td>7.7</td>\n",
       "      <td>261.0</td>\n",
       "      <td>2181.9</td>\n",
       "      <td>290.8</td>\n",
       "    </tr>\n",
       "    <tr>\n",
       "      <th>615</th>\n",
       "      <td>KARNATAKA</td>\n",
       "      <td>HASSAN</td>\n",
       "      <td>1.3</td>\n",
       "      <td>2.5</td>\n",
       "      <td>10.7</td>\n",
       "      <td>55.1</td>\n",
       "      <td>102.2</td>\n",
       "      <td>125.0</td>\n",
       "      <td>203.8</td>\n",
       "      <td>130.0</td>\n",
       "      <td>115.5</td>\n",
       "      <td>156.0</td>\n",
       "      <td>54.1</td>\n",
       "      <td>10.9</td>\n",
       "      <td>967.1</td>\n",
       "      <td>3.8</td>\n",
       "      <td>168.0</td>\n",
       "      <td>574.3</td>\n",
       "      <td>221.0</td>\n",
       "    </tr>\n",
       "    <tr>\n",
       "      <th>616</th>\n",
       "      <td>KARNATAKA</td>\n",
       "      <td>KOLAR</td>\n",
       "      <td>2.7</td>\n",
       "      <td>4.5</td>\n",
       "      <td>10.4</td>\n",
       "      <td>27.8</td>\n",
       "      <td>74.4</td>\n",
       "      <td>63.3</td>\n",
       "      <td>76.4</td>\n",
       "      <td>91.2</td>\n",
       "      <td>151.8</td>\n",
       "      <td>148.2</td>\n",
       "      <td>58.8</td>\n",
       "      <td>21.6</td>\n",
       "      <td>731.1</td>\n",
       "      <td>7.2</td>\n",
       "      <td>112.6</td>\n",
       "      <td>382.7</td>\n",
       "      <td>228.6</td>\n",
       "    </tr>\n",
       "    <tr>\n",
       "      <th>617</th>\n",
       "      <td>KARNATAKA</td>\n",
       "      <td>MANDYA</td>\n",
       "      <td>1.9</td>\n",
       "      <td>3.6</td>\n",
       "      <td>7.6</td>\n",
       "      <td>45.3</td>\n",
       "      <td>105.1</td>\n",
       "      <td>48.7</td>\n",
       "      <td>49.3</td>\n",
       "      <td>58.9</td>\n",
       "      <td>128.2</td>\n",
       "      <td>153.1</td>\n",
       "      <td>47.0</td>\n",
       "      <td>14.0</td>\n",
       "      <td>662.7</td>\n",
       "      <td>5.5</td>\n",
       "      <td>158.0</td>\n",
       "      <td>285.1</td>\n",
       "      <td>214.1</td>\n",
       "    </tr>\n",
       "    <tr>\n",
       "      <th>618</th>\n",
       "      <td>KARNATAKA</td>\n",
       "      <td>MYSORE</td>\n",
       "      <td>2.5</td>\n",
       "      <td>3.5</td>\n",
       "      <td>11.4</td>\n",
       "      <td>58.7</td>\n",
       "      <td>124.6</td>\n",
       "      <td>79.7</td>\n",
       "      <td>92.4</td>\n",
       "      <td>64.8</td>\n",
       "      <td>106.7</td>\n",
       "      <td>152.4</td>\n",
       "      <td>48.8</td>\n",
       "      <td>13.1</td>\n",
       "      <td>758.6</td>\n",
       "      <td>6.0</td>\n",
       "      <td>194.7</td>\n",
       "      <td>343.6</td>\n",
       "      <td>214.3</td>\n",
       "    </tr>\n",
       "    <tr>\n",
       "      <th>619</th>\n",
       "      <td>KARNATAKA</td>\n",
       "      <td>SHIMOGA</td>\n",
       "      <td>0.5</td>\n",
       "      <td>0.4</td>\n",
       "      <td>6.3</td>\n",
       "      <td>38.0</td>\n",
       "      <td>78.3</td>\n",
       "      <td>346.8</td>\n",
       "      <td>624.3</td>\n",
       "      <td>403.8</td>\n",
       "      <td>139.1</td>\n",
       "      <td>137.5</td>\n",
       "      <td>44.6</td>\n",
       "      <td>8.3</td>\n",
       "      <td>1827.9</td>\n",
       "      <td>0.9</td>\n",
       "      <td>122.6</td>\n",
       "      <td>1514.0</td>\n",
       "      <td>190.4</td>\n",
       "    </tr>\n",
       "    <tr>\n",
       "      <th>620</th>\n",
       "      <td>KARNATAKA</td>\n",
       "      <td>TUMKUR</td>\n",
       "      <td>2.4</td>\n",
       "      <td>3.0</td>\n",
       "      <td>7.1</td>\n",
       "      <td>34.0</td>\n",
       "      <td>87.1</td>\n",
       "      <td>61.5</td>\n",
       "      <td>69.7</td>\n",
       "      <td>79.5</td>\n",
       "      <td>148.5</td>\n",
       "      <td>148.9</td>\n",
       "      <td>46.7</td>\n",
       "      <td>10.1</td>\n",
       "      <td>698.5</td>\n",
       "      <td>5.4</td>\n",
       "      <td>128.2</td>\n",
       "      <td>359.2</td>\n",
       "      <td>205.7</td>\n",
       "    </tr>\n",
       "    <tr>\n",
       "      <th>621</th>\n",
       "      <td>KARNATAKA</td>\n",
       "      <td>BANGALORE URB</td>\n",
       "      <td>2.3</td>\n",
       "      <td>6.7</td>\n",
       "      <td>8.2</td>\n",
       "      <td>39.2</td>\n",
       "      <td>106.3</td>\n",
       "      <td>73.9</td>\n",
       "      <td>91.6</td>\n",
       "      <td>128.9</td>\n",
       "      <td>181.3</td>\n",
       "      <td>159.7</td>\n",
       "      <td>53.9</td>\n",
       "      <td>18.0</td>\n",
       "      <td>870.0</td>\n",
       "      <td>9.0</td>\n",
       "      <td>153.7</td>\n",
       "      <td>475.7</td>\n",
       "      <td>231.6</td>\n",
       "    </tr>\n",
       "    <tr>\n",
       "      <th>622</th>\n",
       "      <td>KARNATAKA</td>\n",
       "      <td>CHAMARAJANAGA</td>\n",
       "      <td>3.4</td>\n",
       "      <td>6.0</td>\n",
       "      <td>13.2</td>\n",
       "      <td>69.2</td>\n",
       "      <td>131.2</td>\n",
       "      <td>61.8</td>\n",
       "      <td>68.7</td>\n",
       "      <td>66.0</td>\n",
       "      <td>124.1</td>\n",
       "      <td>157.8</td>\n",
       "      <td>62.7</td>\n",
       "      <td>24.3</td>\n",
       "      <td>788.4</td>\n",
       "      <td>9.4</td>\n",
       "      <td>213.6</td>\n",
       "      <td>320.6</td>\n",
       "      <td>244.8</td>\n",
       "    </tr>\n",
       "    <tr>\n",
       "      <th>623</th>\n",
       "      <td>KARNATAKA</td>\n",
       "      <td>DAVANGERE</td>\n",
       "      <td>1.1</td>\n",
       "      <td>0.8</td>\n",
       "      <td>4.2</td>\n",
       "      <td>35.0</td>\n",
       "      <td>74.0</td>\n",
       "      <td>78.7</td>\n",
       "      <td>102.9</td>\n",
       "      <td>87.0</td>\n",
       "      <td>116.3</td>\n",
       "      <td>124.4</td>\n",
       "      <td>44.9</td>\n",
       "      <td>7.4</td>\n",
       "      <td>676.7</td>\n",
       "      <td>1.9</td>\n",
       "      <td>113.2</td>\n",
       "      <td>384.9</td>\n",
       "      <td>176.7</td>\n",
       "    </tr>\n",
       "    <tr>\n",
       "      <th>624</th>\n",
       "      <td>KARNATAKA</td>\n",
       "      <td>RAMNAGAR(BNGR)</td>\n",
       "      <td>1.5</td>\n",
       "      <td>4.7</td>\n",
       "      <td>10.2</td>\n",
       "      <td>47.9</td>\n",
       "      <td>122.3</td>\n",
       "      <td>73.1</td>\n",
       "      <td>84.5</td>\n",
       "      <td>108.8</td>\n",
       "      <td>187.6</td>\n",
       "      <td>174.1</td>\n",
       "      <td>54.0</td>\n",
       "      <td>15.0</td>\n",
       "      <td>883.7</td>\n",
       "      <td>6.2</td>\n",
       "      <td>180.4</td>\n",
       "      <td>454.0</td>\n",
       "      <td>243.1</td>\n",
       "    </tr>\n",
       "    <tr>\n",
       "      <th>625</th>\n",
       "      <td>KARNATAKA</td>\n",
       "      <td>CHICKBALLAPUR</td>\n",
       "      <td>2.1</td>\n",
       "      <td>4.6</td>\n",
       "      <td>8.2</td>\n",
       "      <td>27.2</td>\n",
       "      <td>69.4</td>\n",
       "      <td>64.3</td>\n",
       "      <td>89.2</td>\n",
       "      <td>104.9</td>\n",
       "      <td>153.4</td>\n",
       "      <td>156.8</td>\n",
       "      <td>52.9</td>\n",
       "      <td>15.5</td>\n",
       "      <td>748.5</td>\n",
       "      <td>6.7</td>\n",
       "      <td>104.8</td>\n",
       "      <td>411.8</td>\n",
       "      <td>225.2</td>\n",
       "    </tr>\n",
       "  </tbody>\n",
       "</table>\n",
       "</div>"
      ],
      "text/plain": [
       "    STATE_UT_NAME        DISTRICT    1    2     3     4      5       6  \\\n",
       "596     KARNATAKA   UTTAR KANNADA  0.3  0.1   2.7  22.1  114.0   740.9   \n",
       "597     KARNATAKA   DAKSHIN KANDA  1.9  0.7   6.4  39.8  180.9   977.2   \n",
       "598     KARNATAKA           UDUPI  1.4  0.4   4.1  29.4  193.8  1081.0   \n",
       "599     KARNATAKA          BELGAM  0.7  0.9   6.2  30.2   74.8   130.4   \n",
       "600     KARNATAKA           BIDAR  5.9  6.1  10.1  21.7   31.4   137.1   \n",
       "601     KARNATAKA         BIJAPUR  2.4  2.7   5.2  20.1   46.5    94.5   \n",
       "602     KARNATAKA         DHARWAD  2.3  3.2   6.9  46.6   82.5   113.8   \n",
       "603     KARNATAKA        GULBARGA  4.3  2.9   6.2  19.7   36.4   112.8   \n",
       "604     KARNATAKA          YADGIR  4.4  3.6   5.2  20.5   36.8   116.8   \n",
       "605     KARNATAKA         RAICHUR  1.4  2.0   4.1  17.7   40.5    81.7   \n",
       "606     KARNATAKA       BAGALKOTE  1.8  1.5   4.5  23.5   57.3    80.1   \n",
       "607     KARNATAKA           GADAG  1.2  1.0   3.9  33.5   71.7    85.1   \n",
       "608     KARNATAKA          HAVERI  0.3  0.5   4.0  43.6   78.5   114.7   \n",
       "609     KARNATAKA          KOPPAL  1.2  0.4   2.5  19.2   50.5    72.2   \n",
       "610     KARNATAKA   BANGALORE RUR  1.7  5.8   7.6  36.2   93.1    71.2   \n",
       "611     KARNATAKA         BELLARY  1.4  1.4   2.9  26.2   57.9    72.4   \n",
       "612     KARNATAKA     CHIKMAGALUR  1.6  2.0  12.0  60.2  105.9   395.0   \n",
       "613     KARNATAKA     CHITRADURGA  1.4  1.2   4.4  25.8   64.9    50.5   \n",
       "614     KARNATAKA          KODAGU  3.5  4.2  18.5  89.8  152.7   542.2   \n",
       "615     KARNATAKA          HASSAN  1.3  2.5  10.7  55.1  102.2   125.0   \n",
       "616     KARNATAKA           KOLAR  2.7  4.5  10.4  27.8   74.4    63.3   \n",
       "617     KARNATAKA          MANDYA  1.9  3.6   7.6  45.3  105.1    48.7   \n",
       "618     KARNATAKA          MYSORE  2.5  3.5  11.4  58.7  124.6    79.7   \n",
       "619     KARNATAKA         SHIMOGA  0.5  0.4   6.3  38.0   78.3   346.8   \n",
       "620     KARNATAKA          TUMKUR  2.4  3.0   7.1  34.0   87.1    61.5   \n",
       "621     KARNATAKA   BANGALORE URB  2.3  6.7   8.2  39.2  106.3    73.9   \n",
       "622     KARNATAKA   CHAMARAJANAGA  3.4  6.0  13.2  69.2  131.2    61.8   \n",
       "623     KARNATAKA       DAVANGERE  1.1  0.8   4.2  35.0   74.0    78.7   \n",
       "624     KARNATAKA  RAMNAGAR(BNGR)  1.5  4.7  10.2  47.9  122.3    73.1   \n",
       "625     KARNATAKA   CHICKBALLAPUR  2.1  4.6   8.2  27.2   69.4    64.3   \n",
       "\n",
       "          7      8      9     10    11    12  ANNUAL  Jan-Feb  Mar-May  \\\n",
       "596  1053.8  667.7  258.5  155.1  44.1  11.2  3070.5      0.4    138.8   \n",
       "597  1227.2  833.6  313.6  236.9  82.0  15.6  3915.8      2.6    227.1   \n",
       "598  1371.6  902.2  404.9  223.8  74.6  18.8  4306.0      1.8    227.3   \n",
       "599   204.0  126.7  113.0  116.6  30.6   5.1   839.2      1.6    111.2   \n",
       "600   190.7  196.6  170.5   93.5  20.9   6.2   890.7     12.0     63.2   \n",
       "601    91.8   91.3  158.4  111.7  24.9   6.9   656.4      5.1     71.8   \n",
       "602   149.1  101.6  119.5  120.4  39.6   6.2   791.7      5.5    136.0   \n",
       "603   156.1  167.6  184.0  105.3  20.8   4.5   820.6      7.2     62.3   \n",
       "604   153.0  161.2  179.8  123.4  24.5   5.3   834.5      8.0     62.5   \n",
       "605   110.2  122.2  147.5  110.5  21.4   5.9   665.1      3.4     62.3   \n",
       "606    73.6   72.5  137.1  112.8  25.3   7.0   597.0      3.3     85.3   \n",
       "607    70.4   75.3  137.5  121.1  33.0   7.5   641.2      2.2    109.1   \n",
       "608   169.8  111.1   99.5  119.0  43.9   7.0   791.9      0.8    126.1   \n",
       "609    75.6   89.1  145.7  108.1  25.8   8.0   598.3      1.6     72.2   \n",
       "610    91.7  118.1  170.9  171.8  55.4  13.5   837.0      7.5    136.9   \n",
       "611    77.0   89.3  137.3  116.3  31.1   9.6   622.8      2.8     87.0   \n",
       "612   662.1  425.0  175.2  167.4  58.8  12.3  2077.5      3.6    178.1   \n",
       "613    56.1   58.9  105.5  116.4  33.8   8.8   527.7      2.6     95.1   \n",
       "614   884.4  543.9  211.4  201.7  71.6  17.5  2741.4      7.7    261.0   \n",
       "615   203.8  130.0  115.5  156.0  54.1  10.9   967.1      3.8    168.0   \n",
       "616    76.4   91.2  151.8  148.2  58.8  21.6   731.1      7.2    112.6   \n",
       "617    49.3   58.9  128.2  153.1  47.0  14.0   662.7      5.5    158.0   \n",
       "618    92.4   64.8  106.7  152.4  48.8  13.1   758.6      6.0    194.7   \n",
       "619   624.3  403.8  139.1  137.5  44.6   8.3  1827.9      0.9    122.6   \n",
       "620    69.7   79.5  148.5  148.9  46.7  10.1   698.5      5.4    128.2   \n",
       "621    91.6  128.9  181.3  159.7  53.9  18.0   870.0      9.0    153.7   \n",
       "622    68.7   66.0  124.1  157.8  62.7  24.3   788.4      9.4    213.6   \n",
       "623   102.9   87.0  116.3  124.4  44.9   7.4   676.7      1.9    113.2   \n",
       "624    84.5  108.8  187.6  174.1  54.0  15.0   883.7      6.2    180.4   \n",
       "625    89.2  104.9  153.4  156.8  52.9  15.5   748.5      6.7    104.8   \n",
       "\n",
       "     Jun-Sep  Oct-Dec  \n",
       "596   2720.9    210.4  \n",
       "597   3351.6    334.5  \n",
       "598   3759.7    317.2  \n",
       "599    574.1    152.3  \n",
       "600    694.9    120.6  \n",
       "601    436.0    143.5  \n",
       "602    484.0    166.2  \n",
       "603    620.5    130.6  \n",
       "604    610.8    153.2  \n",
       "605    461.6    137.8  \n",
       "606    363.3    145.1  \n",
       "607    368.3    161.6  \n",
       "608    495.1    169.9  \n",
       "609    382.6    141.9  \n",
       "610    451.9    240.7  \n",
       "611    376.0    157.0  \n",
       "612   1657.3    238.5  \n",
       "613    271.0    159.0  \n",
       "614   2181.9    290.8  \n",
       "615    574.3    221.0  \n",
       "616    382.7    228.6  \n",
       "617    285.1    214.1  \n",
       "618    343.6    214.3  \n",
       "619   1514.0    190.4  \n",
       "620    359.2    205.7  \n",
       "621    475.7    231.6  \n",
       "622    320.6    244.8  \n",
       "623    384.9    176.7  \n",
       "624    454.0    243.1  \n",
       "625    411.8    225.2  "
      ]
     },
     "execution_count": 72,
     "metadata": {},
     "output_type": "execute_result"
    }
   ],
   "source": [
    "rainfall"
   ]
  },
  {
   "cell_type": "code",
   "execution_count": 59,
   "metadata": {},
   "outputs": [],
   "source": [
    "a = rainfall[rainfall['DISTRICT'] == 'EAST SIANG']"
   ]
  },
  {
   "cell_type": "code",
   "execution_count": 60,
   "metadata": {},
   "outputs": [],
   "source": [
    "from datetime import datetime "
   ]
  },
  {
   "cell_type": "code",
   "execution_count": 64,
   "metadata": {},
   "outputs": [
    {
     "data": {
      "text/plain": [
       "'3'"
      ]
     },
     "execution_count": 64,
     "metadata": {},
     "output_type": "execute_result"
    }
   ],
   "source": [
    "str(datetime.now().month)"
   ]
  },
  {
   "cell_type": "code",
   "execution_count": 63,
   "metadata": {},
   "outputs": [
    {
     "data": {
      "text/plain": [
       "4    105.9\n",
       "Name: 3, dtype: float64"
      ]
     },
     "execution_count": 63,
     "metadata": {},
     "output_type": "execute_result"
    }
   ],
   "source": [
    "a['3']"
   ]
  },
  {
   "cell_type": "code",
   "execution_count": 65,
   "metadata": {},
   "outputs": [],
   "source": [
    "value = a[str(datetime.now().month)]"
   ]
  },
  {
   "cell_type": "code",
   "execution_count": 66,
   "metadata": {},
   "outputs": [
    {
     "name": "stdout",
     "output_type": "stream",
     "text": [
      "105.9\n"
     ]
    }
   ],
   "source": [
    "print(value[value.index[0]])"
   ]
  },
  {
   "cell_type": "code",
   "execution_count": 5,
   "metadata": {},
   "outputs": [
    {
     "data": {
      "text/plain": [
       "array(['ANDAMAN And NICOBAR ISLANDS', 'ARUNACHAL PRADESH', 'ASSAM',\n",
       "       'MEGHALAYA', 'MANIPUR', 'MIZORAM', 'NAGALAND', 'TRIPURA',\n",
       "       'WEST BENGAL', 'SIKKIM', 'ORISSA', 'JHARKHAND', 'BIHAR',\n",
       "       'UTTAR PRADESH', 'UTTARANCHAL', 'HARYANA', 'CHANDIGARH', 'DELHI',\n",
       "       'PUNJAB', 'HIMACHAL', 'JAMMU AND KASHMIR', 'RAJASTHAN',\n",
       "       'MADHYA PRADESH', 'GUJARAT', 'DADAR NAGAR HAVELI', 'DAMAN AND DUI',\n",
       "       'MAHARASHTRA', 'GOA', 'CHATISGARH', 'ANDHRA PRADESH', 'TAMIL NADU',\n",
       "       'PONDICHERRY', 'KARNATAKA', 'KERALA', 'LAKSHADWEEP'], dtype=object)"
      ]
     },
     "execution_count": 5,
     "metadata": {},
     "output_type": "execute_result"
    }
   ],
   "source": [
    "rainfall.STATE_UT_NAME.unique()"
   ]
  },
  {
   "cell_type": "code",
   "execution_count": 6,
   "metadata": {},
   "outputs": [
    {
     "data": {
      "text/plain": [
       "array(['NICOBAR', 'SOUTH ANDAMAN', 'N & M ANDAMAN', 'LOHIT', 'EAST SIANG',\n",
       "       'SUBANSIRI F.D', 'TIRAP', 'ANJAW (LOHIT)', 'LOWER DIBANG',\n",
       "       'CHANGLANG', 'PAPUM PARE', 'LOW SUBANSIRI', 'UPPER SIANG',\n",
       "       'WEST SIANG', 'DIBANG VALLEY', 'WEST KAMENG', 'EAST KAMENG',\n",
       "       'TAWANG(W KAME', 'KURUNG KUMEY', 'CACHAR', 'DARRANG', 'GOALPARA',\n",
       "       'KAMRUP', 'LAKHIMPUR', 'NORTH CACHAR', 'NAGAON', 'SIVASAGAR',\n",
       "       'BARPETA', 'DHUBRI', 'DIBRUGARH', 'JORHAT', 'KARIMGANJ',\n",
       "       'KOKRAJHAR', 'SHONITPUR', 'GOLAGHAT', 'TINSUKIA', 'HAILAKANDI',\n",
       "       'DHEMAJI(LAKHI', 'KARBI ANGLONG', 'UDALGURI(DARA', 'KAMRUP METROP',\n",
       "       'CHIRANG(BONGAI', 'BAKSA BARPETA', 'BONGAIGAON', 'MORIGAON',\n",
       "       'NALBARI', 'EAST KHASI HI', 'JAINTIA HILLS', 'EAST GARO HIL',\n",
       "       'RI-BHOI', 'SOUTH GARO HI', 'W KHASI HILL', 'WEST GARO HIL',\n",
       "       'IMPHAL EAST', 'SENAPATI', 'TAMENGLONG', 'CHANDEL', 'UKHRUL',\n",
       "       'THOUBAL', 'BISHNUPUR', 'IMPHAL WEST', 'CHURACHANDPUR', 'AIZAWL',\n",
       "       'CHAMPHAI', 'KOLASIB', 'LUNGLEI', 'CHHIMTUIPUI', 'LAWNGTLAI',\n",
       "       'MAMIT', 'SAIHA', 'SERCHHIP', 'KOHIMA', 'TUENSANG', 'MOKOKCHUNG',\n",
       "       'DIMAPUR', 'WOKHA', 'MON', 'ZUNHEBOTO', 'PHEK', 'KEPHRIE',\n",
       "       'LONGLENG', 'PEREN', 'NORTH TRIPURA', 'SOUTH TRIPURA',\n",
       "       'WEST TRIPURA', 'DHALAI', 'COOCH BEHAR', 'DARJEELING',\n",
       "       'JALPAIGURI', 'MALDA', 'SOUTH DINAJPUR', 'NORTH DINAJPUR',\n",
       "       'NORTH SIKKIM', 'EAST SIKKIM', 'WEST SIKKIM', 'SOUTH SIKKIM',\n",
       "       'BANKURA', 'BIRBHUM', 'BURDWAN', 'HOOGHLY', 'HOWRAH', 'PURULIA',\n",
       "       'MURSHIDABAD', 'NADIA', 'NORTH 24 PARG', 'SOUTH 24 PARG',\n",
       "       'EAST MIDNAPOR', 'WEST MIDNAPOR', 'KOLKATA', 'BALASORE',\n",
       "       'BOLANGIR', 'KANDHAMAL/PHU', 'CUTTACK', 'DHENKANAL', 'GANJAM',\n",
       "       'KALAHANDI', 'KEONDJHARGARH', 'KORAPUT', 'MAYURBHANJ', 'PURI',\n",
       "       'SAMBALPUR', 'SUNDARGARH', 'BHADRAK', 'JAJPUR', 'KENDRAPARA',\n",
       "       'ANGUL', 'NAWAPARA', 'MALKANGIRI', 'NAWARANGPUR', 'NAYAGARH',\n",
       "       'KHURDA', 'BARGARH', 'JHARSUGUDA', 'DEOGARH', 'RAYAGADA',\n",
       "       'GAJAPATI', 'JAGATSINGHAPU', 'BOUDHGARH', 'SONEPUR', 'BOKARO',\n",
       "       'DHANBAD', 'DUMKA', 'HAZARIBAG', 'PALAMU', 'RANCHI', 'SAHIBGANJ',\n",
       "       'WEST SINGHBHUM', 'DEOGHAR', 'GIRIDIH', 'GODDA', 'GUMLA',\n",
       "       'LOHARDAGA', 'CHATRA', 'KODERMA', 'PAKUR', 'EAST SINGHBHU',\n",
       "       'GARHWA', 'SERAIKELA-KHA', 'JAMTARA', 'LATEHAR', 'SIMDEGA',\n",
       "       'KHUNTI(RANCHI', 'RAMGARH', 'BHAGALPUR', 'EAST CHAMPARAN',\n",
       "       'DARBHANGA', 'GAYA', 'MUNGER', 'MUZAFFARPUR', 'WEST CHAMPARAN',\n",
       "       'PURNEA', 'GOPALGANJ', 'MADHUBANI', 'AURANGABAD', 'BEGUSARAI',\n",
       "       'BHOJPUR', 'NALANDA', 'PATNA', 'KATIHAR', 'KHAGARIA', 'SARAN',\n",
       "       'MADHEPURA', 'NAWADA', 'ROHTAS', 'SAMASTIPUR', 'SITAMARHI',\n",
       "       'SIWAN', 'VAISHALI', 'JAHANABAD', 'BUXAR', 'ARARIA', 'BANKA',\n",
       "       'BHABUA', 'JAMUI', 'KISHANGANJ', 'SHEIKHPURA', 'SUPAUL',\n",
       "       'LAKHISARAI', 'SHEOHAR', 'ARWAL', 'SAHARSA', 'ALLAHABAD',\n",
       "       'AZAMGARH', 'BAHRAICH', 'BALLIA', 'BANDA', 'BARABANKI', 'BASTI',\n",
       "       'DEORIA', 'FAIZABAD', 'FARRUKHABAD', 'FATEHPUR', 'GHAZIPUR',\n",
       "       'GONDA', 'GORAKHPUR', 'HARDOI', 'JAUNPUR', 'KANPUR NAGAR',\n",
       "       'KHERI LAKHIMP', 'LUCKNOW', 'MIRZAPUR', 'PRATAPGARH', 'RAE BARELI',\n",
       "       'SITAPUR', 'SULTANPUR', 'UNNAO', 'VARANASI', 'SONBHADRA',\n",
       "       'MAHARAJGANJ', 'MAU', 'SIDDHARTH NGR', 'KUSHINAGAR',\n",
       "       'AMBEDKAR NAGAR', 'KANNAUJ', 'BALRAMPUR', 'KAUSHAMBI',\n",
       "       'SAHUJI MAHARA', 'KANPUR DEHAT', 'CHANDAULI', 'SANT KABIR NGR',\n",
       "       'SANT RAVIDAS', 'SHRAVASTI NGR', 'AGRA', 'ALIGARH', 'BAREILLY',\n",
       "       'BIJNOR', 'BADAUN', 'BULANDSHAHAR', 'ETAH', 'ETAWAH', 'HAMIRPUR',\n",
       "       'JALAUN', 'JHANSI', 'LALITPUR', 'MAINPURI', 'MATHURA', 'MEERUT',\n",
       "       'MORADABAD', 'MUZAFFARNAGAR', 'PILIBHIT', 'RAMPUR', 'SAHARANPUR',\n",
       "       'SHAHJAHANPUR', 'GHAZIABAD', 'FIROZABAD', 'MAHOBA',\n",
       "       'MAHAMAYA NAGA', 'AURAIYA', 'BAGPAT', 'JYOTIBA PHULE',\n",
       "       'GAUTAM BUDDHA', 'KANSHIRAM NAG', 'ALMORA', 'CHAMOLI', 'DEHRADUN',\n",
       "       'GARHWAL PAURI', 'NAINITAL', 'PITHORAGARH', 'GARHWAL TEHRI',\n",
       "       'UTTARKASHI', 'HARIDWAR', 'CHAMPAWAT', 'RUDRAPRAYAG',\n",
       "       'UDHAM SINGH N', 'BAGESHWAR', 'AMBALA', 'GURGAON', 'HISAR', 'JIND',\n",
       "       'KARNAL', 'MAHENDRAGARH', 'ROHTAK', 'BHIWANI', 'FARIDABAD',\n",
       "       'KURUKSHETRA', 'SIRSA', 'SONEPAT(RTK)', 'YAMUNANAGAR', 'KAITHAL',\n",
       "       'PANIPAT', 'REWARI', 'FATEHABAD', 'JHAJJAR', 'PANCHKULA', 'MEWAT',\n",
       "       'PALWAL(FRD)', 'CHANDIGARH', 'NEW DELHI', 'CENTRAL DELHI',\n",
       "       'EAST DELHI', 'NORTH DELHI', 'NE DELHI', 'SW DELHI', 'NW DELHI',\n",
       "       'SOUTH DELHI', 'WEST DELHI', 'AMRITSAR', 'BATHINDA', 'FEROZEPUR',\n",
       "       'GURDASPUR', 'HOSHIARPUR', 'JALANDHAR', 'KAPURTHALA', 'LUDHIANA',\n",
       "       'PATIALA', 'RUPNAGAR', 'SANGRUR', 'FARIDKOT', 'MOGA', 'NAWANSHAHR',\n",
       "       'FATEHGARH SAH', 'MUKTSAR', 'MANSA', 'BARNALA', 'SAS NAGAR(MGA)',\n",
       "       'TARN TARAN', 'BILASPUR', 'CHAMBA', 'KANGRA', 'KINNAUR', 'KULLU',\n",
       "       'LAHUL & SPITI', 'MANDI', 'SHIMLA', 'SIRMAUR', 'SOLAN', 'UNA',\n",
       "       'ANANTNAG', 'BARAMULLA', 'DODA', 'JAMMU', 'KATHUA', 'LADAKH (LEH)',\n",
       "       'UDHAMPUR', 'BADGAM', 'KUPWARA', 'PULWAMA', 'SRINAGAR', 'KARGIL',\n",
       "       'POONCH', 'RAJOURI', 'BANDIPORE', 'GANDERWAL', 'KULGAM/(ANT)',\n",
       "       'SHOPAN', 'SAMBA', 'KISTWAR', 'REASI', 'RAMBAN(DDA)', 'BARMER',\n",
       "       'BIKANER', 'CHURU', 'SRI GANGANAGA', 'JAISALMER', 'JALORE',\n",
       "       'JODHPUR', 'NAGAUR', 'PALI', 'HANUMANGARH', 'AJMER', 'ALWAR',\n",
       "       'BANSWARA', 'BHARATPUR', 'BHILWARA', 'BUNDI', 'CHITTORGARH',\n",
       "       'DUNGARPUR', 'JAIPUR', 'JHALAWAR', 'JHUNJHUNU', 'KOTA',\n",
       "       'SAWAI MADHOPUR', 'SIKAR', 'SIROHI', 'TONK', 'UDAIPUR', 'DHOLPUR',\n",
       "       'BARAN', 'DAUSA', 'RAJSAMAND', 'KARAULI', 'PRATAPGARH(CHT',\n",
       "       'BETUL', 'VIDISHA', 'BHIND', 'DATIA', 'DEWAS', 'DHAR', 'GUNA',\n",
       "       'GWALIOR', 'HOSHANGABAD', 'INDORE', 'JHABUA', 'MANDSAUR', 'MORENA',\n",
       "       'KHANDWA', 'KHARGONE', 'RAISEN', 'RAJGARH', 'RATLAM', 'SEHORE',\n",
       "       'SHAJAPUR', 'SHIVPURI', 'UJJAIN', 'BHOPAL', 'HARDA', 'NEEMUCH',\n",
       "       'SHEOPUR', 'BARWANI', 'ASHOKNAGAR(GNA', 'BURHANPUR',\n",
       "       'ALIRAJPUR(JBA)', 'BALAGHAT', 'CHHATARPUR', 'CHHINDWARA',\n",
       "       'JABALPUR', 'MANDLA', 'NARSINGHPUR', 'PANNA', 'REWA', 'SAGAR',\n",
       "       'SATNA', 'SEONI', 'SHAHDOL', 'SIDHI', 'TIKAMGARH', 'KATNI',\n",
       "       'DINDORI', 'UMARIA', 'DAMOH', 'ANUPPUR(SHAHD', 'SINGRAULI',\n",
       "       'AHMEDABAD', 'BANASKANTHA', 'BARODA', 'BHARUCH', 'VALSAD', 'DANGS',\n",
       "       'KHEDA', 'MEHSANA', 'PANCHMAHALS', 'SABARKANTHA', 'SURAT',\n",
       "       'GANDHINAGAR', 'NARMADA(BRC)', 'NAVSARI(VSD)', 'ANAND(KHR)',\n",
       "       'PATAN(MHSN)', 'DAHOD(PNML)', 'TAPI(SRT)', 'AMRELI', 'BHAVNAGAR',\n",
       "       'JAMNAGAR', 'JUNAGADH', 'KUTCH', 'RAJKOT', 'SURENDRANAGAR',\n",
       "       'PORBANDAR', 'DNH', 'DAMAN', 'DIU', 'MUMBAI CITY', 'RAIGAD',\n",
       "       'RATNAGIRI', 'THANE', 'SINDHUDURG', 'MUMBAI SUB', 'NORTH GOA',\n",
       "       'SOUTH GOA', 'AHMEDNAGAR', 'DHULE', 'JALGAON', 'KOLHAPUR',\n",
       "       'NASHIK', 'PUNE', 'SANGLI', 'SATARA', 'SOLAPUR', 'NANDURBAR',\n",
       "       'BEED', 'NANDED', 'OSMANABAD', 'PARBHANI', 'LATUR', 'JALNA',\n",
       "       'HINGOLI', 'AKOLA', 'AMRAVATI', 'BHANDARA', 'BULDHANA',\n",
       "       'CHANDRAPUR', 'NAGPUR', 'YAVATMAL', 'WARDHA', 'GADCHIROLI',\n",
       "       'WASHIM', 'GONDIA', 'BASTAR', 'DURG', 'RAIGARH', 'RAIPUR',\n",
       "       'SURGUJA', 'RAJNANDGAON', 'DANTEWADA', 'KANKER (NORH',\n",
       "       'JANJGIR-CHAMP', 'KORBA', 'JASHPUR', 'DHAMTARI', 'MAHASAMUND',\n",
       "       'KORIYA', 'KOWARDHA (KAB', 'NARAYANPUR', 'BIJAPUR',\n",
       "       'EAST GODAVARI', 'WEST GODAVARI', 'GUNTUR', 'KRISHNA', 'NELLORE',\n",
       "       'PRAKASAM', 'SRIKAKULAM', 'VISAKHAPATNAM', 'VIZIANAGARAM',\n",
       "       'ADILABAD', 'HYDERABAD', 'KARIMNAGAR', 'KHAMMAM', 'MAHABUBNAGAR',\n",
       "       'MEDAK', 'NALGONDA', 'NIZAMABAD', 'WARANGAL', 'RANGAREDDY',\n",
       "       'ANANTAPUR', 'CHITTOOR', 'KUDDAPAH', 'KURNOOL', 'VELLORE',\n",
       "       'COIMBATORE', 'DHARMAPURI', 'KANYAKUMARI', 'CHENNAI', 'MADURAI',\n",
       "       'NILGIRIS', 'RAMANATHAPURA', 'SALEM', 'THANJAVUR', 'TIRUCHIRAPPAL',\n",
       "       'TIRUNELVELI', 'ERODE', 'PUDUKKOTTAI', 'DINDIGUL', 'VIRUDHUNAGAR',\n",
       "       'SIVAGANGA', 'THOOTHUKUDI', 'TIRUVANNAMALA', 'NAGAPATTINAM',\n",
       "       'VILUPPURAM', 'CUDDALORE', 'KANCHIPURAM', 'TIRUVALLUR', 'THENI',\n",
       "       'NAMAKKAL', 'KARUR', 'PERAMBALUR', 'TIRUVARUR', 'KRISHNAGIRI',\n",
       "       'ARIYALUR', 'TIRUPUR', 'PONDICHERRY', 'KARAIKAL', 'MAHE', 'YANAM',\n",
       "       'UTTAR KANNADA', 'DAKSHIN KANDA', 'UDUPI', 'BELGAM', 'BIDAR',\n",
       "       'DHARWAD', 'GULBARGA', 'YADGIR', 'RAICHUR', 'BAGALKOTE', 'GADAG',\n",
       "       'HAVERI', 'KOPPAL', 'BANGALORE RUR', 'BELLARY', 'CHIKMAGALUR',\n",
       "       'CHITRADURGA', 'KODAGU', 'HASSAN', 'KOLAR', 'MANDYA', 'MYSORE',\n",
       "       'SHIMOGA', 'TUMKUR', 'BANGALORE URB', 'CHAMARAJANAGA', 'DAVANGERE',\n",
       "       'RAMNAGAR(BNGR)', 'CHICKBALLAPUR', 'ALAPPUZHA', 'CANNUR',\n",
       "       'ERNAKULAM', 'KOTTAYAM', 'KOZHIKODE', 'MALAPPURAM', 'PALAKKAD',\n",
       "       'KOLLAM', 'THRISSUR', 'THIRUVANANTHA', 'IDUKKI', 'KASARGOD',\n",
       "       'PATHANAMTHITTA', 'WAYANAD', 'LAKSHADWEEP'], dtype=object)"
      ]
     },
     "execution_count": 6,
     "metadata": {},
     "output_type": "execute_result"
    }
   ],
   "source": [
    "rainfall.DISTRICT.unique()"
   ]
  },
  {
   "cell_type": "code",
   "execution_count": 81,
   "metadata": {},
   "outputs": [],
   "source": [
    "d = {'temperature':40,'humidity': 22,'ph':  7.5, 'rainfall': 120}"
   ]
  },
  {
   "cell_type": "code",
   "execution_count": 82,
   "metadata": {},
   "outputs": [],
   "source": [
    "import pandas as pd\n",
    "temp = pd.DataFrame(columns = ['temperature','humidity','ph','rainfall'])"
   ]
  },
  {
   "cell_type": "code",
   "execution_count": 83,
   "metadata": {},
   "outputs": [
    {
     "data": {
      "text/html": [
       "<div>\n",
       "<style scoped>\n",
       "    .dataframe tbody tr th:only-of-type {\n",
       "        vertical-align: middle;\n",
       "    }\n",
       "\n",
       "    .dataframe tbody tr th {\n",
       "        vertical-align: top;\n",
       "    }\n",
       "\n",
       "    .dataframe thead th {\n",
       "        text-align: right;\n",
       "    }\n",
       "</style>\n",
       "<table border=\"1\" class=\"dataframe\">\n",
       "  <thead>\n",
       "    <tr style=\"text-align: right;\">\n",
       "      <th></th>\n",
       "      <th>temperature</th>\n",
       "      <th>humidity</th>\n",
       "      <th>ph</th>\n",
       "      <th>rainfall</th>\n",
       "    </tr>\n",
       "  </thead>\n",
       "  <tbody>\n",
       "    <tr>\n",
       "      <th>0</th>\n",
       "      <td>40.0</td>\n",
       "      <td>22.0</td>\n",
       "      <td>7.5</td>\n",
       "      <td>120.0</td>\n",
       "    </tr>\n",
       "  </tbody>\n",
       "</table>\n",
       "</div>"
      ],
      "text/plain": [
       "   temperature  humidity   ph  rainfall\n",
       "0         40.0      22.0  7.5     120.0"
      ]
     },
     "execution_count": 83,
     "metadata": {},
     "output_type": "execute_result"
    }
   ],
   "source": [
    "temp.append(d,ignore_index=True)"
   ]
  },
  {
   "cell_type": "code",
   "execution_count": null,
   "metadata": {},
   "outputs": [],
   "source": []
  }
 ],
 "metadata": {
  "kernelspec": {
   "display_name": "Python 3",
   "language": "python",
   "name": "python3"
  },
  "language_info": {
   "codemirror_mode": {
    "name": "ipython",
    "version": 3
   },
   "file_extension": ".py",
   "mimetype": "text/x-python",
   "name": "python",
   "nbconvert_exporter": "python",
   "pygments_lexer": "ipython3",
   "version": "3.7.4"
  }
 },
 "nbformat": 4,
 "nbformat_minor": 2
}
