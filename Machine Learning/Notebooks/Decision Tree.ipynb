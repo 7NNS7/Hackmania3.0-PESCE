{
 "cells": [
  {
   "cell_type": "code",
   "execution_count": 3,
   "metadata": {},
   "outputs": [
    {
     "name": "stdout",
     "output_type": "stream",
     "text": [
      "DecisionTrees's Accuracy is:  0.885483870967742\n",
      "              precision    recall  f1-score   support\n",
      "\n",
      "Adzuki Beans       1.00      0.89      0.94        19\n",
      "  Black gram       0.91      0.95      0.93        21\n",
      "    Chickpea       0.96      1.00      0.98        22\n",
      "     Coconut       1.00      1.00      1.00        20\n",
      "      Coffee       0.83      1.00      0.91        15\n",
      "      Cotton       0.93      0.87      0.90        15\n",
      "  Ground Nut       0.78      0.95      0.86        19\n",
      "        Jute       0.86      0.95      0.90        19\n",
      "Kidney Beans       1.00      0.94      0.97        17\n",
      "      Lentil       0.86      1.00      0.93        19\n",
      "  Moth Beans       0.94      0.74      0.83        23\n",
      "   Mung Bean       1.00      1.00      1.00        20\n",
      "        Peas       1.00      1.00      1.00        17\n",
      " Pigeon Peas       0.60      0.39      0.47        23\n",
      "      Rubber       0.88      0.92      0.90        24\n",
      "   Sugarcane       0.91      0.71      0.80        14\n",
      "         Tea       0.67      0.84      0.74        19\n",
      "     Tobacco       0.95      0.95      0.95        21\n",
      "       apple       0.89      0.94      0.91        17\n",
      "      banana       0.94      0.89      0.92        19\n",
      "      grapes       0.89      1.00      0.94        17\n",
      "       maize       0.67      0.61      0.64        23\n",
      "       mango       0.93      1.00      0.96        25\n",
      "      millet       1.00      1.00      1.00        13\n",
      "   muskmelon       1.00      1.00      1.00        20\n",
      "      orange       0.79      0.76      0.78        25\n",
      "      papaya       0.84      0.93      0.88        28\n",
      " pomegranate       0.95      0.82      0.88        22\n",
      "        rice       0.96      1.00      0.98        22\n",
      "  watermelon       1.00      1.00      1.00        20\n",
      "       wheat       0.65      0.59      0.62        22\n",
      "\n",
      "    accuracy                           0.89       620\n",
      "   macro avg       0.89      0.89      0.89       620\n",
      "weighted avg       0.88      0.89      0.88       620\n",
      "\n"
     ]
    }
   ],
   "source": [
    "from __future__ import print_function\n",
    "import pandas as pd\n",
    "from sklearn.metrics import classification_report\n",
    "from sklearn import metrics\n",
    "\n",
    "df = pd.read_csv('../Datasets/cpdata.csv')\n",
    "features = df[['temperature', 'humidity', 'ph', 'rainfall']]\n",
    "labels = df['label']\n",
    "\n",
    "from sklearn.model_selection import train_test_split\n",
    "Xtrain, Xtest, Ytrain, Ytest = train_test_split(features,labels,test_size = 0.2,random_state =2)\n",
    "\n",
    "from sklearn.tree import DecisionTreeClassifier\n",
    "\n",
    "DecisionTree = DecisionTreeClassifier(criterion=\"entropy\",random_state=2,max_depth=8)\n",
    "\n",
    "DecisionTree.fit(Xtrain,Ytrain)\n",
    "\n",
    "predicted_values = DecisionTree.predict(Xtest)\n",
    "\n",
    "x =  metrics.accuracy_score(Ytest, predicted_values)\n",
    "print(\"DecisionTrees's Accuracy is: \", x)\n",
    "\n",
    "print(classification_report(Ytest,predicted_values))"
   ]
  },
  {
   "cell_type": "code",
   "execution_count": null,
   "metadata": {},
   "outputs": [],
   "source": []
  }
 ],
 "metadata": {
  "kernelspec": {
   "display_name": "Python 3",
   "language": "python",
   "name": "python3"
  },
  "language_info": {
   "codemirror_mode": {
    "name": "ipython",
    "version": 3
   },
   "file_extension": ".py",
   "mimetype": "text/x-python",
   "name": "python",
   "nbconvert_exporter": "python",
   "pygments_lexer": "ipython3",
   "version": "3.7.4"
  }
 },
 "nbformat": 4,
 "nbformat_minor": 2
}
